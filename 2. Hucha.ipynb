{
 "cells": [
  {
   "cell_type": "markdown",
   "metadata": {},
   "source": [
    "### 2. HUCHA"
   ]
  },
  {
   "cell_type": "code",
   "execution_count": 1,
   "metadata": {},
   "outputs": [],
   "source": [
    "#Librerias\n",
    "import pandas as pd\n",
    "import numpy as np\n",
    "import os"
   ]
  },
  {
   "cell_type": "code",
   "execution_count": 2,
   "metadata": {},
   "outputs": [],
   "source": [
    "#Creamos la ruta\n",
    "path = 'Data/'\n",
    "sports = pd.read_excel(path+'sports.xlsx')"
   ]
  },
  {
   "cell_type": "code",
   "execution_count": 3,
   "metadata": {},
   "outputs": [
    {
     "data": {
      "text/html": [
       "<div>\n",
       "<style scoped>\n",
       "    .dataframe tbody tr th:only-of-type {\n",
       "        vertical-align: middle;\n",
       "    }\n",
       "\n",
       "    .dataframe tbody tr th {\n",
       "        vertical-align: top;\n",
       "    }\n",
       "\n",
       "    .dataframe thead th {\n",
       "        text-align: right;\n",
       "    }\n",
       "</style>\n",
       "<table border=\"1\" class=\"dataframe\">\n",
       "  <thead>\n",
       "    <tr style=\"text-align: right;\">\n",
       "      <th></th>\n",
       "      <th>CuotaFavorito</th>\n",
       "      <th>Date</th>\n",
       "      <th>Favorito</th>\n",
       "      <th>GanaFavorito</th>\n",
       "      <th>Sport</th>\n",
       "      <th>Tournament</th>\n",
       "    </tr>\n",
       "  </thead>\n",
       "  <tbody>\n",
       "    <tr>\n",
       "      <th>0</th>\n",
       "      <td>2.20</td>\n",
       "      <td>2000-08-19</td>\n",
       "      <td>H</td>\n",
       "      <td>1</td>\n",
       "      <td>Football</td>\n",
       "      <td>E0</td>\n",
       "    </tr>\n",
       "    <tr>\n",
       "      <th>1</th>\n",
       "      <td>1.60</td>\n",
       "      <td>2000-08-19</td>\n",
       "      <td>H</td>\n",
       "      <td>1</td>\n",
       "      <td>Football</td>\n",
       "      <td>E0</td>\n",
       "    </tr>\n",
       "    <tr>\n",
       "      <th>2</th>\n",
       "      <td>2.20</td>\n",
       "      <td>2000-08-19</td>\n",
       "      <td>H</td>\n",
       "      <td>0</td>\n",
       "      <td>Football</td>\n",
       "      <td>E0</td>\n",
       "    </tr>\n",
       "    <tr>\n",
       "      <th>3</th>\n",
       "      <td>1.80</td>\n",
       "      <td>2000-08-19</td>\n",
       "      <td>H</td>\n",
       "      <td>0</td>\n",
       "      <td>Football</td>\n",
       "      <td>E0</td>\n",
       "    </tr>\n",
       "    <tr>\n",
       "      <th>4</th>\n",
       "      <td>1.55</td>\n",
       "      <td>2000-08-19</td>\n",
       "      <td>H</td>\n",
       "      <td>1</td>\n",
       "      <td>Football</td>\n",
       "      <td>E0</td>\n",
       "    </tr>\n",
       "  </tbody>\n",
       "</table>\n",
       "</div>"
      ],
      "text/plain": [
       "   CuotaFavorito       Date Favorito  GanaFavorito     Sport Tournament\n",
       "0           2.20 2000-08-19        H             1  Football         E0\n",
       "1           1.60 2000-08-19        H             1  Football         E0\n",
       "2           2.20 2000-08-19        H             0  Football         E0\n",
       "3           1.80 2000-08-19        H             0  Football         E0\n",
       "4           1.55 2000-08-19        H             1  Football         E0"
      ]
     },
     "execution_count": 3,
     "metadata": {},
     "output_type": "execute_result"
    }
   ],
   "source": [
    "#Observamos las primeras filas del dataframe\n",
    "sports.head()"
   ]
  },
  {
   "cell_type": "code",
   "execution_count": 4,
   "metadata": {},
   "outputs": [],
   "source": [
    "#Creamos una función que convierta la cuota en una probabilidad, para así hacer un análisis más sencillo.\n",
    "#Esta probabilidad será la que tiene de ganar el favorito\n",
    "\n",
    "def prob(a):\n",
    "    return (1/a)*100"
   ]
  },
  {
   "cell_type": "code",
   "execution_count": 5,
   "metadata": {},
   "outputs": [],
   "source": [
    "#Aplicamos la formula en una nueva columna\n",
    "sports['Probabilidad'] = sports['CuotaFavorito'].apply(prob)"
   ]
  },
  {
   "cell_type": "code",
   "execution_count": 6,
   "metadata": {},
   "outputs": [
    {
     "data": {
      "text/html": [
       "<div>\n",
       "<style scoped>\n",
       "    .dataframe tbody tr th:only-of-type {\n",
       "        vertical-align: middle;\n",
       "    }\n",
       "\n",
       "    .dataframe tbody tr th {\n",
       "        vertical-align: top;\n",
       "    }\n",
       "\n",
       "    .dataframe thead th {\n",
       "        text-align: right;\n",
       "    }\n",
       "</style>\n",
       "<table border=\"1\" class=\"dataframe\">\n",
       "  <thead>\n",
       "    <tr style=\"text-align: right;\">\n",
       "      <th></th>\n",
       "      <th>CuotaFavorito</th>\n",
       "      <th>Date</th>\n",
       "      <th>Favorito</th>\n",
       "      <th>GanaFavorito</th>\n",
       "      <th>Sport</th>\n",
       "      <th>Tournament</th>\n",
       "      <th>Probabilidad</th>\n",
       "    </tr>\n",
       "  </thead>\n",
       "  <tbody>\n",
       "    <tr>\n",
       "      <th>0</th>\n",
       "      <td>2.20</td>\n",
       "      <td>2000-08-19</td>\n",
       "      <td>H</td>\n",
       "      <td>1</td>\n",
       "      <td>Football</td>\n",
       "      <td>E0</td>\n",
       "      <td>45.454545</td>\n",
       "    </tr>\n",
       "    <tr>\n",
       "      <th>1</th>\n",
       "      <td>1.60</td>\n",
       "      <td>2000-08-19</td>\n",
       "      <td>H</td>\n",
       "      <td>1</td>\n",
       "      <td>Football</td>\n",
       "      <td>E0</td>\n",
       "      <td>62.500000</td>\n",
       "    </tr>\n",
       "    <tr>\n",
       "      <th>2</th>\n",
       "      <td>2.20</td>\n",
       "      <td>2000-08-19</td>\n",
       "      <td>H</td>\n",
       "      <td>0</td>\n",
       "      <td>Football</td>\n",
       "      <td>E0</td>\n",
       "      <td>45.454545</td>\n",
       "    </tr>\n",
       "    <tr>\n",
       "      <th>3</th>\n",
       "      <td>1.80</td>\n",
       "      <td>2000-08-19</td>\n",
       "      <td>H</td>\n",
       "      <td>0</td>\n",
       "      <td>Football</td>\n",
       "      <td>E0</td>\n",
       "      <td>55.555556</td>\n",
       "    </tr>\n",
       "    <tr>\n",
       "      <th>4</th>\n",
       "      <td>1.55</td>\n",
       "      <td>2000-08-19</td>\n",
       "      <td>H</td>\n",
       "      <td>1</td>\n",
       "      <td>Football</td>\n",
       "      <td>E0</td>\n",
       "      <td>64.516129</td>\n",
       "    </tr>\n",
       "  </tbody>\n",
       "</table>\n",
       "</div>"
      ],
      "text/plain": [
       "   CuotaFavorito       Date Favorito  GanaFavorito     Sport Tournament  \\\n",
       "0           2.20 2000-08-19        H             1  Football         E0   \n",
       "1           1.60 2000-08-19        H             1  Football         E0   \n",
       "2           2.20 2000-08-19        H             0  Football         E0   \n",
       "3           1.80 2000-08-19        H             0  Football         E0   \n",
       "4           1.55 2000-08-19        H             1  Football         E0   \n",
       "\n",
       "   Probabilidad  \n",
       "0     45.454545  \n",
       "1     62.500000  \n",
       "2     45.454545  \n",
       "3     55.555556  \n",
       "4     64.516129  "
      ]
     },
     "execution_count": 6,
     "metadata": {},
     "output_type": "execute_result"
    }
   ],
   "source": [
    "sports.head()"
   ]
  },
  {
   "cell_type": "code",
   "execution_count": 7,
   "metadata": {},
   "outputs": [
    {
     "data": {
      "text/plain": [
       "CuotaFavorito           float64\n",
       "Date             datetime64[ns]\n",
       "Favorito                 object\n",
       "GanaFavorito              int64\n",
       "Sport                    object\n",
       "Tournament               object\n",
       "Probabilidad            float64\n",
       "dtype: object"
      ]
     },
     "execution_count": 7,
     "metadata": {},
     "output_type": "execute_result"
    }
   ],
   "source": [
    "sports.dtypes"
   ]
  },
  {
   "cell_type": "markdown",
   "metadata": {},
   "source": [
    "## El primer análisis que haremos será apostar 10€ siempre al favorito."
   ]
  },
  {
   "cell_type": "code",
   "execution_count": 8,
   "metadata": {},
   "outputs": [],
   "source": [
    "#Si ganamos tendremos el beneficio menos lo apostado, para saber el beneficio neto y si perdemos restaremos lo apostado.\n",
    "sports['Hucha10'] = np.where(sports['GanaFavorito'] == 1, sports['CuotaFavorito']*10-10, -10)"
   ]
  },
  {
   "cell_type": "code",
   "execution_count": 9,
   "metadata": {},
   "outputs": [
    {
     "data": {
      "text/html": [
       "<div>\n",
       "<style scoped>\n",
       "    .dataframe tbody tr th:only-of-type {\n",
       "        vertical-align: middle;\n",
       "    }\n",
       "\n",
       "    .dataframe tbody tr th {\n",
       "        vertical-align: top;\n",
       "    }\n",
       "\n",
       "    .dataframe thead th {\n",
       "        text-align: right;\n",
       "    }\n",
       "</style>\n",
       "<table border=\"1\" class=\"dataframe\">\n",
       "  <thead>\n",
       "    <tr style=\"text-align: right;\">\n",
       "      <th></th>\n",
       "      <th>CuotaFavorito</th>\n",
       "      <th>Date</th>\n",
       "      <th>Favorito</th>\n",
       "      <th>GanaFavorito</th>\n",
       "      <th>Sport</th>\n",
       "      <th>Tournament</th>\n",
       "      <th>Probabilidad</th>\n",
       "      <th>Hucha10</th>\n",
       "    </tr>\n",
       "  </thead>\n",
       "  <tbody>\n",
       "    <tr>\n",
       "      <th>0</th>\n",
       "      <td>2.20</td>\n",
       "      <td>2000-08-19</td>\n",
       "      <td>H</td>\n",
       "      <td>1</td>\n",
       "      <td>Football</td>\n",
       "      <td>E0</td>\n",
       "      <td>45.454545</td>\n",
       "      <td>12.0</td>\n",
       "    </tr>\n",
       "    <tr>\n",
       "      <th>1</th>\n",
       "      <td>1.60</td>\n",
       "      <td>2000-08-19</td>\n",
       "      <td>H</td>\n",
       "      <td>1</td>\n",
       "      <td>Football</td>\n",
       "      <td>E0</td>\n",
       "      <td>62.500000</td>\n",
       "      <td>6.0</td>\n",
       "    </tr>\n",
       "    <tr>\n",
       "      <th>2</th>\n",
       "      <td>2.20</td>\n",
       "      <td>2000-08-19</td>\n",
       "      <td>H</td>\n",
       "      <td>0</td>\n",
       "      <td>Football</td>\n",
       "      <td>E0</td>\n",
       "      <td>45.454545</td>\n",
       "      <td>-10.0</td>\n",
       "    </tr>\n",
       "    <tr>\n",
       "      <th>3</th>\n",
       "      <td>1.80</td>\n",
       "      <td>2000-08-19</td>\n",
       "      <td>H</td>\n",
       "      <td>0</td>\n",
       "      <td>Football</td>\n",
       "      <td>E0</td>\n",
       "      <td>55.555556</td>\n",
       "      <td>-10.0</td>\n",
       "    </tr>\n",
       "    <tr>\n",
       "      <th>4</th>\n",
       "      <td>1.55</td>\n",
       "      <td>2000-08-19</td>\n",
       "      <td>H</td>\n",
       "      <td>1</td>\n",
       "      <td>Football</td>\n",
       "      <td>E0</td>\n",
       "      <td>64.516129</td>\n",
       "      <td>5.5</td>\n",
       "    </tr>\n",
       "  </tbody>\n",
       "</table>\n",
       "</div>"
      ],
      "text/plain": [
       "   CuotaFavorito       Date Favorito  GanaFavorito     Sport Tournament  \\\n",
       "0           2.20 2000-08-19        H             1  Football         E0   \n",
       "1           1.60 2000-08-19        H             1  Football         E0   \n",
       "2           2.20 2000-08-19        H             0  Football         E0   \n",
       "3           1.80 2000-08-19        H             0  Football         E0   \n",
       "4           1.55 2000-08-19        H             1  Football         E0   \n",
       "\n",
       "   Probabilidad  Hucha10  \n",
       "0     45.454545     12.0  \n",
       "1     62.500000      6.0  \n",
       "2     45.454545    -10.0  \n",
       "3     55.555556    -10.0  \n",
       "4     64.516129      5.5  "
      ]
     },
     "execution_count": 9,
     "metadata": {},
     "output_type": "execute_result"
    }
   ],
   "source": [
    "sports.head()"
   ]
  },
  {
   "cell_type": "code",
   "execution_count": 10,
   "metadata": {},
   "outputs": [
    {
     "data": {
      "text/plain": [
       "-163289.0"
      ]
     },
     "execution_count": 10,
     "metadata": {},
     "output_type": "execute_result"
    }
   ],
   "source": [
    "#Sumaremos todo para saber si hubieramos ganado o perdido dinero.\n",
    "sports['Hucha10'].sum()"
   ]
  },
  {
   "cell_type": "code",
   "execution_count": 11,
   "metadata": {},
   "outputs": [],
   "source": [
    "#La segunda Hucha la calcularemos multiplicando su cuota por la probabilidad de ganar\n",
    "sports['HuchaB'] = np.where(sports['GanaFavorito'] == 1, (sports['CuotaFavorito']*sports['Probabilidad']/10)-(sports['Probabilidad']/10), -sports['Probabilidad']/10)"
   ]
  },
  {
   "cell_type": "code",
   "execution_count": 12,
   "metadata": {},
   "outputs": [
    {
     "data": {
      "text/plain": [
       "-92195.14371700516"
      ]
     },
     "execution_count": 12,
     "metadata": {},
     "output_type": "execute_result"
    }
   ],
   "source": [
    "sports['HuchaB'].sum()"
   ]
  },
  {
   "cell_type": "markdown",
   "metadata": {},
   "source": [
    "La hucha sale negativa, entonces tendremos que buscar un indicador que nos diga cuanto apostar a cada cuota."
   ]
  },
  {
   "cell_type": "code",
   "execution_count": 13,
   "metadata": {},
   "outputs": [],
   "source": [
    "#Cogemos solamente los favoritos que ganan"
   ]
  },
  {
   "cell_type": "code",
   "execution_count": 14,
   "metadata": {},
   "outputs": [
    {
     "data": {
      "text/html": [
       "<div>\n",
       "<style scoped>\n",
       "    .dataframe tbody tr th:only-of-type {\n",
       "        vertical-align: middle;\n",
       "    }\n",
       "\n",
       "    .dataframe tbody tr th {\n",
       "        vertical-align: top;\n",
       "    }\n",
       "\n",
       "    .dataframe thead th {\n",
       "        text-align: right;\n",
       "    }\n",
       "</style>\n",
       "<table border=\"1\" class=\"dataframe\">\n",
       "  <thead>\n",
       "    <tr style=\"text-align: right;\">\n",
       "      <th></th>\n",
       "      <th>CuotaFavorito</th>\n",
       "      <th>Date</th>\n",
       "      <th>Favorito</th>\n",
       "      <th>GanaFavorito</th>\n",
       "      <th>Sport</th>\n",
       "      <th>Tournament</th>\n",
       "      <th>Probabilidad</th>\n",
       "      <th>Hucha10</th>\n",
       "      <th>HuchaB</th>\n",
       "    </tr>\n",
       "  </thead>\n",
       "  <tbody>\n",
       "    <tr>\n",
       "      <th>0</th>\n",
       "      <td>2.20</td>\n",
       "      <td>2000-08-19</td>\n",
       "      <td>H</td>\n",
       "      <td>1</td>\n",
       "      <td>Football</td>\n",
       "      <td>E0</td>\n",
       "      <td>45.454545</td>\n",
       "      <td>12.0</td>\n",
       "      <td>5.454545</td>\n",
       "    </tr>\n",
       "    <tr>\n",
       "      <th>1</th>\n",
       "      <td>1.60</td>\n",
       "      <td>2000-08-19</td>\n",
       "      <td>H</td>\n",
       "      <td>1</td>\n",
       "      <td>Football</td>\n",
       "      <td>E0</td>\n",
       "      <td>62.500000</td>\n",
       "      <td>6.0</td>\n",
       "      <td>3.750000</td>\n",
       "    </tr>\n",
       "    <tr>\n",
       "      <th>4</th>\n",
       "      <td>1.55</td>\n",
       "      <td>2000-08-19</td>\n",
       "      <td>H</td>\n",
       "      <td>1</td>\n",
       "      <td>Football</td>\n",
       "      <td>E0</td>\n",
       "      <td>64.516129</td>\n",
       "      <td>5.5</td>\n",
       "      <td>3.548387</td>\n",
       "    </tr>\n",
       "    <tr>\n",
       "      <th>6</th>\n",
       "      <td>1.25</td>\n",
       "      <td>2000-08-19</td>\n",
       "      <td>H</td>\n",
       "      <td>1</td>\n",
       "      <td>Football</td>\n",
       "      <td>E0</td>\n",
       "      <td>80.000000</td>\n",
       "      <td>2.5</td>\n",
       "      <td>2.000000</td>\n",
       "    </tr>\n",
       "    <tr>\n",
       "      <th>8</th>\n",
       "      <td>1.50</td>\n",
       "      <td>2000-08-19</td>\n",
       "      <td>H</td>\n",
       "      <td>1</td>\n",
       "      <td>Football</td>\n",
       "      <td>E0</td>\n",
       "      <td>66.666667</td>\n",
       "      <td>5.0</td>\n",
       "      <td>3.333333</td>\n",
       "    </tr>\n",
       "  </tbody>\n",
       "</table>\n",
       "</div>"
      ],
      "text/plain": [
       "   CuotaFavorito       Date Favorito  GanaFavorito     Sport Tournament  \\\n",
       "0           2.20 2000-08-19        H             1  Football         E0   \n",
       "1           1.60 2000-08-19        H             1  Football         E0   \n",
       "4           1.55 2000-08-19        H             1  Football         E0   \n",
       "6           1.25 2000-08-19        H             1  Football         E0   \n",
       "8           1.50 2000-08-19        H             1  Football         E0   \n",
       "\n",
       "   Probabilidad  Hucha10    HuchaB  \n",
       "0     45.454545     12.0  5.454545  \n",
       "1     62.500000      6.0  3.750000  \n",
       "4     64.516129      5.5  3.548387  \n",
       "6     80.000000      2.5  2.000000  \n",
       "8     66.666667      5.0  3.333333  "
      ]
     },
     "execution_count": 14,
     "metadata": {},
     "output_type": "execute_result"
    }
   ],
   "source": [
    "favoritos = sports[sports['GanaFavorito'] == 1]\n",
    "favoritos.head()"
   ]
  },
  {
   "cell_type": "code",
   "execution_count": 15,
   "metadata": {},
   "outputs": [
    {
     "data": {
      "text/html": [
       "<div>\n",
       "<style scoped>\n",
       "    .dataframe tbody tr th:only-of-type {\n",
       "        vertical-align: middle;\n",
       "    }\n",
       "\n",
       "    .dataframe tbody tr th {\n",
       "        vertical-align: top;\n",
       "    }\n",
       "\n",
       "    .dataframe thead th {\n",
       "        text-align: right;\n",
       "    }\n",
       "</style>\n",
       "<table border=\"1\" class=\"dataframe\">\n",
       "  <thead>\n",
       "    <tr style=\"text-align: right;\">\n",
       "      <th></th>\n",
       "      <th>CuotaFavorito</th>\n",
       "      <th>GanaFavorito</th>\n",
       "    </tr>\n",
       "  </thead>\n",
       "  <tbody>\n",
       "    <tr>\n",
       "      <th>0</th>\n",
       "      <td>1.000</td>\n",
       "      <td>96</td>\n",
       "    </tr>\n",
       "    <tr>\n",
       "      <th>1</th>\n",
       "      <td>1.001</td>\n",
       "      <td>1</td>\n",
       "    </tr>\n",
       "    <tr>\n",
       "      <th>2</th>\n",
       "      <td>1.002</td>\n",
       "      <td>57</td>\n",
       "    </tr>\n",
       "    <tr>\n",
       "      <th>3</th>\n",
       "      <td>1.003</td>\n",
       "      <td>1</td>\n",
       "    </tr>\n",
       "    <tr>\n",
       "      <th>4</th>\n",
       "      <td>1.005</td>\n",
       "      <td>103</td>\n",
       "    </tr>\n",
       "  </tbody>\n",
       "</table>\n",
       "</div>"
      ],
      "text/plain": [
       "   CuotaFavorito  GanaFavorito\n",
       "0          1.000            96\n",
       "1          1.001             1\n",
       "2          1.002            57\n",
       "3          1.003             1\n",
       "4          1.005           103"
      ]
     },
     "execution_count": 15,
     "metadata": {},
     "output_type": "execute_result"
    }
   ],
   "source": [
    "#Agrupado por cuotas\n",
    "\n",
    "favoritoAgrupados = favoritos.groupby('CuotaFavorito',as_index=False)['GanaFavorito'].sum()\n",
    "favoritoAgrupados.head()"
   ]
  },
  {
   "cell_type": "code",
   "execution_count": 16,
   "metadata": {},
   "outputs": [
    {
     "data": {
      "text/html": [
       "<div>\n",
       "<style scoped>\n",
       "    .dataframe tbody tr th:only-of-type {\n",
       "        vertical-align: middle;\n",
       "    }\n",
       "\n",
       "    .dataframe tbody tr th {\n",
       "        vertical-align: top;\n",
       "    }\n",
       "\n",
       "    .dataframe thead th {\n",
       "        text-align: right;\n",
       "    }\n",
       "</style>\n",
       "<table border=\"1\" class=\"dataframe\">\n",
       "  <thead>\n",
       "    <tr style=\"text-align: right;\">\n",
       "      <th></th>\n",
       "      <th>CuotaFavorito</th>\n",
       "      <th>Favorito</th>\n",
       "    </tr>\n",
       "  </thead>\n",
       "  <tbody>\n",
       "    <tr>\n",
       "      <th>0</th>\n",
       "      <td>1.000</td>\n",
       "      <td>96</td>\n",
       "    </tr>\n",
       "    <tr>\n",
       "      <th>1</th>\n",
       "      <td>1.001</td>\n",
       "      <td>1</td>\n",
       "    </tr>\n",
       "    <tr>\n",
       "      <th>2</th>\n",
       "      <td>1.002</td>\n",
       "      <td>60</td>\n",
       "    </tr>\n",
       "    <tr>\n",
       "      <th>3</th>\n",
       "      <td>1.003</td>\n",
       "      <td>1</td>\n",
       "    </tr>\n",
       "    <tr>\n",
       "      <th>4</th>\n",
       "      <td>1.005</td>\n",
       "      <td>103</td>\n",
       "    </tr>\n",
       "  </tbody>\n",
       "</table>\n",
       "</div>"
      ],
      "text/plain": [
       "   CuotaFavorito  Favorito\n",
       "0          1.000        96\n",
       "1          1.001         1\n",
       "2          1.002        60\n",
       "3          1.003         1\n",
       "4          1.005       103"
      ]
     },
     "execution_count": 16,
     "metadata": {},
     "output_type": "execute_result"
    }
   ],
   "source": [
    "sportsTotal = sports.groupby('CuotaFavorito',as_index=False)['Favorito'].count()\n",
    "sportsTotal.head()"
   ]
  },
  {
   "cell_type": "code",
   "execution_count": 17,
   "metadata": {
    "scrolled": true
   },
   "outputs": [
    {
     "data": {
      "text/html": [
       "<div>\n",
       "<style scoped>\n",
       "    .dataframe tbody tr th:only-of-type {\n",
       "        vertical-align: middle;\n",
       "    }\n",
       "\n",
       "    .dataframe tbody tr th {\n",
       "        vertical-align: top;\n",
       "    }\n",
       "\n",
       "    .dataframe thead th {\n",
       "        text-align: right;\n",
       "    }\n",
       "</style>\n",
       "<table border=\"1\" class=\"dataframe\">\n",
       "  <thead>\n",
       "    <tr style=\"text-align: right;\">\n",
       "      <th></th>\n",
       "      <th>CuotaFavorito</th>\n",
       "      <th>Indicador</th>\n",
       "    </tr>\n",
       "  </thead>\n",
       "  <tbody>\n",
       "    <tr>\n",
       "      <th>0</th>\n",
       "      <td>1.000</td>\n",
       "      <td>100.000000</td>\n",
       "    </tr>\n",
       "    <tr>\n",
       "      <th>1</th>\n",
       "      <td>1.001</td>\n",
       "      <td>99.900100</td>\n",
       "    </tr>\n",
       "    <tr>\n",
       "      <th>2</th>\n",
       "      <td>1.002</td>\n",
       "      <td>94.810379</td>\n",
       "    </tr>\n",
       "    <tr>\n",
       "      <th>3</th>\n",
       "      <td>1.003</td>\n",
       "      <td>99.700897</td>\n",
       "    </tr>\n",
       "    <tr>\n",
       "      <th>4</th>\n",
       "      <td>1.005</td>\n",
       "      <td>99.502488</td>\n",
       "    </tr>\n",
       "  </tbody>\n",
       "</table>\n",
       "</div>"
      ],
      "text/plain": [
       "   CuotaFavorito   Indicador\n",
       "0          1.000  100.000000\n",
       "1          1.001   99.900100\n",
       "2          1.002   94.810379\n",
       "3          1.003   99.700897\n",
       "4          1.005   99.502488"
      ]
     },
     "execution_count": 17,
     "metadata": {},
     "output_type": "execute_result"
    }
   ],
   "source": [
    "#Juntamos las tablas para poder obtener el porcentaje de favoritos que ganan teniendo una cuota concreta\n",
    "sportsTotalFavoritos = favoritoAgrupados.merge(sportsTotal, how='left')\n",
    "sportsTotalFavoritos['Porcentaje'] = sportsTotalFavoritos['GanaFavorito']/sportsTotalFavoritos['Favorito']\n",
    "sportsTotalFavoritos['Probabilidad'] = sportsTotalFavoritos['CuotaFavorito'].apply(prob)\n",
    "sportsTotalFavoritos['Indicador'] = sportsTotalFavoritos['Porcentaje'] * sportsTotalFavoritos['Probabilidad']\n",
    "sportsTotalFavoritos = sportsTotalFavoritos[['CuotaFavorito','Indicador']]\n",
    "sportsTotalFavoritos.head()"
   ]
  },
  {
   "cell_type": "code",
   "execution_count": 18,
   "metadata": {},
   "outputs": [],
   "source": [
    "#Guardaremos los indicadores en un archivo\n",
    "sportsTotalFavoritos.to_csv(path+'indicadores.csv')"
   ]
  },
  {
   "cell_type": "code",
   "execution_count": 19,
   "metadata": {},
   "outputs": [],
   "source": [
    "#Los indicadores los juntaremos en un único datafram\n",
    "sports = sports.merge(sportsTotalFavoritos, how = 'left')"
   ]
  },
  {
   "cell_type": "code",
   "execution_count": 20,
   "metadata": {
    "scrolled": true
   },
   "outputs": [
    {
     "data": {
      "text/html": [
       "<div>\n",
       "<style scoped>\n",
       "    .dataframe tbody tr th:only-of-type {\n",
       "        vertical-align: middle;\n",
       "    }\n",
       "\n",
       "    .dataframe tbody tr th {\n",
       "        vertical-align: top;\n",
       "    }\n",
       "\n",
       "    .dataframe thead th {\n",
       "        text-align: right;\n",
       "    }\n",
       "</style>\n",
       "<table border=\"1\" class=\"dataframe\">\n",
       "  <thead>\n",
       "    <tr style=\"text-align: right;\">\n",
       "      <th></th>\n",
       "      <th>CuotaFavorito</th>\n",
       "      <th>Date</th>\n",
       "      <th>Favorito</th>\n",
       "      <th>GanaFavorito</th>\n",
       "      <th>Sport</th>\n",
       "      <th>Tournament</th>\n",
       "      <th>Probabilidad</th>\n",
       "      <th>Hucha10</th>\n",
       "      <th>HuchaB</th>\n",
       "      <th>Indicador</th>\n",
       "    </tr>\n",
       "  </thead>\n",
       "  <tbody>\n",
       "    <tr>\n",
       "      <th>0</th>\n",
       "      <td>2.20</td>\n",
       "      <td>2000-08-19</td>\n",
       "      <td>H</td>\n",
       "      <td>1</td>\n",
       "      <td>Football</td>\n",
       "      <td>E0</td>\n",
       "      <td>45.454545</td>\n",
       "      <td>12.0</td>\n",
       "      <td>5.454545</td>\n",
       "      <td>19.243025</td>\n",
       "    </tr>\n",
       "    <tr>\n",
       "      <th>1</th>\n",
       "      <td>1.60</td>\n",
       "      <td>2000-08-19</td>\n",
       "      <td>H</td>\n",
       "      <td>1</td>\n",
       "      <td>Football</td>\n",
       "      <td>E0</td>\n",
       "      <td>62.500000</td>\n",
       "      <td>6.0</td>\n",
       "      <td>3.750000</td>\n",
       "      <td>37.083788</td>\n",
       "    </tr>\n",
       "    <tr>\n",
       "      <th>2</th>\n",
       "      <td>2.20</td>\n",
       "      <td>2000-08-19</td>\n",
       "      <td>H</td>\n",
       "      <td>0</td>\n",
       "      <td>Football</td>\n",
       "      <td>E0</td>\n",
       "      <td>45.454545</td>\n",
       "      <td>-10.0</td>\n",
       "      <td>-4.545455</td>\n",
       "      <td>19.243025</td>\n",
       "    </tr>\n",
       "    <tr>\n",
       "      <th>3</th>\n",
       "      <td>1.80</td>\n",
       "      <td>2000-08-19</td>\n",
       "      <td>H</td>\n",
       "      <td>0</td>\n",
       "      <td>Football</td>\n",
       "      <td>E0</td>\n",
       "      <td>55.555556</td>\n",
       "      <td>-10.0</td>\n",
       "      <td>-5.555556</td>\n",
       "      <td>28.955330</td>\n",
       "    </tr>\n",
       "    <tr>\n",
       "      <th>4</th>\n",
       "      <td>1.55</td>\n",
       "      <td>2000-08-19</td>\n",
       "      <td>H</td>\n",
       "      <td>1</td>\n",
       "      <td>Football</td>\n",
       "      <td>E0</td>\n",
       "      <td>64.516129</td>\n",
       "      <td>5.5</td>\n",
       "      <td>3.548387</td>\n",
       "      <td>38.679065</td>\n",
       "    </tr>\n",
       "  </tbody>\n",
       "</table>\n",
       "</div>"
      ],
      "text/plain": [
       "   CuotaFavorito       Date Favorito  GanaFavorito     Sport Tournament  \\\n",
       "0           2.20 2000-08-19        H             1  Football         E0   \n",
       "1           1.60 2000-08-19        H             1  Football         E0   \n",
       "2           2.20 2000-08-19        H             0  Football         E0   \n",
       "3           1.80 2000-08-19        H             0  Football         E0   \n",
       "4           1.55 2000-08-19        H             1  Football         E0   \n",
       "\n",
       "   Probabilidad  Hucha10    HuchaB  Indicador  \n",
       "0     45.454545     12.0  5.454545  19.243025  \n",
       "1     62.500000      6.0  3.750000  37.083788  \n",
       "2     45.454545    -10.0 -4.545455  19.243025  \n",
       "3     55.555556    -10.0 -5.555556  28.955330  \n",
       "4     64.516129      5.5  3.548387  38.679065  "
      ]
     },
     "execution_count": 20,
     "metadata": {},
     "output_type": "execute_result"
    }
   ],
   "source": [
    "sports.head()"
   ]
  },
  {
   "cell_type": "code",
   "execution_count": 21,
   "metadata": {},
   "outputs": [],
   "source": [
    "sports['HuchaC'] = np.where(sports['GanaFavorito'] == 1, (sports['CuotaFavorito']*sports['Indicador']/10)-sports['Indicador']/10, -sports['Indicador']/10)"
   ]
  },
  {
   "cell_type": "code",
   "execution_count": 22,
   "metadata": {},
   "outputs": [
    {
     "data": {
      "text/html": [
       "<div>\n",
       "<style scoped>\n",
       "    .dataframe tbody tr th:only-of-type {\n",
       "        vertical-align: middle;\n",
       "    }\n",
       "\n",
       "    .dataframe tbody tr th {\n",
       "        vertical-align: top;\n",
       "    }\n",
       "\n",
       "    .dataframe thead th {\n",
       "        text-align: right;\n",
       "    }\n",
       "</style>\n",
       "<table border=\"1\" class=\"dataframe\">\n",
       "  <thead>\n",
       "    <tr style=\"text-align: right;\">\n",
       "      <th></th>\n",
       "      <th>CuotaFavorito</th>\n",
       "      <th>Date</th>\n",
       "      <th>Favorito</th>\n",
       "      <th>GanaFavorito</th>\n",
       "      <th>Sport</th>\n",
       "      <th>Tournament</th>\n",
       "      <th>Probabilidad</th>\n",
       "      <th>Hucha10</th>\n",
       "      <th>HuchaB</th>\n",
       "      <th>Indicador</th>\n",
       "      <th>HuchaC</th>\n",
       "    </tr>\n",
       "  </thead>\n",
       "  <tbody>\n",
       "    <tr>\n",
       "      <th>0</th>\n",
       "      <td>2.20</td>\n",
       "      <td>2000-08-19</td>\n",
       "      <td>H</td>\n",
       "      <td>1</td>\n",
       "      <td>Football</td>\n",
       "      <td>E0</td>\n",
       "      <td>45.454545</td>\n",
       "      <td>12.0</td>\n",
       "      <td>5.454545</td>\n",
       "      <td>19.243025</td>\n",
       "      <td>2.309163</td>\n",
       "    </tr>\n",
       "    <tr>\n",
       "      <th>1</th>\n",
       "      <td>1.60</td>\n",
       "      <td>2000-08-19</td>\n",
       "      <td>H</td>\n",
       "      <td>1</td>\n",
       "      <td>Football</td>\n",
       "      <td>E0</td>\n",
       "      <td>62.500000</td>\n",
       "      <td>6.0</td>\n",
       "      <td>3.750000</td>\n",
       "      <td>37.083788</td>\n",
       "      <td>2.225027</td>\n",
       "    </tr>\n",
       "    <tr>\n",
       "      <th>2</th>\n",
       "      <td>2.20</td>\n",
       "      <td>2000-08-19</td>\n",
       "      <td>H</td>\n",
       "      <td>0</td>\n",
       "      <td>Football</td>\n",
       "      <td>E0</td>\n",
       "      <td>45.454545</td>\n",
       "      <td>-10.0</td>\n",
       "      <td>-4.545455</td>\n",
       "      <td>19.243025</td>\n",
       "      <td>-1.924302</td>\n",
       "    </tr>\n",
       "    <tr>\n",
       "      <th>3</th>\n",
       "      <td>1.80</td>\n",
       "      <td>2000-08-19</td>\n",
       "      <td>H</td>\n",
       "      <td>0</td>\n",
       "      <td>Football</td>\n",
       "      <td>E0</td>\n",
       "      <td>55.555556</td>\n",
       "      <td>-10.0</td>\n",
       "      <td>-5.555556</td>\n",
       "      <td>28.955330</td>\n",
       "      <td>-2.895533</td>\n",
       "    </tr>\n",
       "    <tr>\n",
       "      <th>4</th>\n",
       "      <td>1.55</td>\n",
       "      <td>2000-08-19</td>\n",
       "      <td>H</td>\n",
       "      <td>1</td>\n",
       "      <td>Football</td>\n",
       "      <td>E0</td>\n",
       "      <td>64.516129</td>\n",
       "      <td>5.5</td>\n",
       "      <td>3.548387</td>\n",
       "      <td>38.679065</td>\n",
       "      <td>2.127349</td>\n",
       "    </tr>\n",
       "  </tbody>\n",
       "</table>\n",
       "</div>"
      ],
      "text/plain": [
       "   CuotaFavorito       Date Favorito  GanaFavorito     Sport Tournament  \\\n",
       "0           2.20 2000-08-19        H             1  Football         E0   \n",
       "1           1.60 2000-08-19        H             1  Football         E0   \n",
       "2           2.20 2000-08-19        H             0  Football         E0   \n",
       "3           1.80 2000-08-19        H             0  Football         E0   \n",
       "4           1.55 2000-08-19        H             1  Football         E0   \n",
       "\n",
       "   Probabilidad  Hucha10    HuchaB  Indicador    HuchaC  \n",
       "0     45.454545     12.0  5.454545  19.243025  2.309163  \n",
       "1     62.500000      6.0  3.750000  37.083788  2.225027  \n",
       "2     45.454545    -10.0 -4.545455  19.243025 -1.924302  \n",
       "3     55.555556    -10.0 -5.555556  28.955330 -2.895533  \n",
       "4     64.516129      5.5  3.548387  38.679065  2.127349  "
      ]
     },
     "execution_count": 22,
     "metadata": {},
     "output_type": "execute_result"
    }
   ],
   "source": [
    "sports.head()"
   ]
  },
  {
   "cell_type": "code",
   "execution_count": 23,
   "metadata": {},
   "outputs": [
    {
     "name": "stdout",
     "output_type": "stream",
     "text": [
      "-163289.0\n",
      "-92195.14371700516\n",
      "-47459.82077582382\n"
     ]
    }
   ],
   "source": [
    "print(sports['Hucha10'].sum())\n",
    "print(sports['HuchaB'].sum())\n",
    "print(sports['HuchaC'].sum())"
   ]
  },
  {
   "cell_type": "code",
   "execution_count": 24,
   "metadata": {},
   "outputs": [],
   "source": [
    "#Gracias a las indicador hemos reducido las perdidas pero seguimos en negativo."
   ]
  },
  {
   "cell_type": "markdown",
   "metadata": {},
   "source": [
    "Ahora vamos a calcular las tres huchas para Fútbol, Baloncesto y Tenis."
   ]
  },
  {
   "cell_type": "code",
   "execution_count": 25,
   "metadata": {},
   "outputs": [
    {
     "data": {
      "text/html": [
       "<div>\n",
       "<style scoped>\n",
       "    .dataframe tbody tr th:only-of-type {\n",
       "        vertical-align: middle;\n",
       "    }\n",
       "\n",
       "    .dataframe tbody tr th {\n",
       "        vertical-align: top;\n",
       "    }\n",
       "\n",
       "    .dataframe thead th {\n",
       "        text-align: right;\n",
       "    }\n",
       "</style>\n",
       "<table border=\"1\" class=\"dataframe\">\n",
       "  <thead>\n",
       "    <tr style=\"text-align: right;\">\n",
       "      <th></th>\n",
       "      <th>Sport</th>\n",
       "      <th>Hucha10</th>\n",
       "      <th>HuchaB</th>\n",
       "      <th>HuchaC</th>\n",
       "    </tr>\n",
       "  </thead>\n",
       "  <tbody>\n",
       "    <tr>\n",
       "      <th>0</th>\n",
       "      <td>Basketball</td>\n",
       "      <td>-4328.40</td>\n",
       "      <td>-3039.198699</td>\n",
       "      <td>-1993.515818</td>\n",
       "    </tr>\n",
       "    <tr>\n",
       "      <th>1</th>\n",
       "      <td>Football</td>\n",
       "      <td>-99739.79</td>\n",
       "      <td>-50062.410331</td>\n",
       "      <td>-23660.392385</td>\n",
       "    </tr>\n",
       "    <tr>\n",
       "      <th>2</th>\n",
       "      <td>Tennis</td>\n",
       "      <td>-59220.81</td>\n",
       "      <td>-39093.534687</td>\n",
       "      <td>-21805.912572</td>\n",
       "    </tr>\n",
       "  </tbody>\n",
       "</table>\n",
       "</div>"
      ],
      "text/plain": [
       "        Sport   Hucha10        HuchaB        HuchaC\n",
       "0  Basketball  -4328.40  -3039.198699  -1993.515818\n",
       "1    Football -99739.79 -50062.410331 -23660.392385\n",
       "2      Tennis -59220.81 -39093.534687 -21805.912572"
      ]
     },
     "execution_count": 25,
     "metadata": {},
     "output_type": "execute_result"
    }
   ],
   "source": [
    "sports.groupby('Sport', as_index=False)[['Hucha10','HuchaB','HuchaC']].sum()"
   ]
  },
  {
   "cell_type": "markdown",
   "metadata": {},
   "source": [
    "Para finalizar vamos a analizar los 10 torneos de fútbol que son más rentables si apostamos al favorito."
   ]
  },
  {
   "cell_type": "code",
   "execution_count": 26,
   "metadata": {},
   "outputs": [
    {
     "data": {
      "text/html": [
       "<div>\n",
       "<style scoped>\n",
       "    .dataframe tbody tr th:only-of-type {\n",
       "        vertical-align: middle;\n",
       "    }\n",
       "\n",
       "    .dataframe tbody tr th {\n",
       "        vertical-align: top;\n",
       "    }\n",
       "\n",
       "    .dataframe thead th {\n",
       "        text-align: right;\n",
       "    }\n",
       "</style>\n",
       "<table border=\"1\" class=\"dataframe\">\n",
       "  <thead>\n",
       "    <tr style=\"text-align: right;\">\n",
       "      <th></th>\n",
       "      <th>Tournament</th>\n",
       "      <th>Hucha10</th>\n",
       "      <th>HuchaB</th>\n",
       "      <th>HuchaC</th>\n",
       "    </tr>\n",
       "  </thead>\n",
       "  <tbody>\n",
       "    <tr>\n",
       "      <th>41</th>\n",
       "      <td>USA</td>\n",
       "      <td>500.5</td>\n",
       "      <td>266.062265</td>\n",
       "      <td>158.748376</td>\n",
       "    </tr>\n",
       "    <tr>\n",
       "      <th>30</th>\n",
       "      <td>Russia</td>\n",
       "      <td>494.2</td>\n",
       "      <td>173.700524</td>\n",
       "      <td>76.140673</td>\n",
       "    </tr>\n",
       "    <tr>\n",
       "      <th>23</th>\n",
       "      <td>Japan</td>\n",
       "      <td>196.6</td>\n",
       "      <td>50.386316</td>\n",
       "      <td>43.205369</td>\n",
       "    </tr>\n",
       "    <tr>\n",
       "      <th>0</th>\n",
       "      <td>Argentina</td>\n",
       "      <td>-267.1</td>\n",
       "      <td>-63.285473</td>\n",
       "      <td>40.952720</td>\n",
       "    </tr>\n",
       "    <tr>\n",
       "      <th>3</th>\n",
       "      <td>Brazil</td>\n",
       "      <td>32.2</td>\n",
       "      <td>12.521216</td>\n",
       "      <td>32.008377</td>\n",
       "    </tr>\n",
       "    <tr>\n",
       "      <th>39</th>\n",
       "      <td>Switzerland</td>\n",
       "      <td>65.7</td>\n",
       "      <td>13.971395</td>\n",
       "      <td>13.970378</td>\n",
       "    </tr>\n",
       "    <tr>\n",
       "      <th>17</th>\n",
       "      <td>Finland</td>\n",
       "      <td>36.7</td>\n",
       "      <td>16.843731</td>\n",
       "      <td>7.774449</td>\n",
       "    </tr>\n",
       "    <tr>\n",
       "      <th>38</th>\n",
       "      <td>Sweden</td>\n",
       "      <td>28.9</td>\n",
       "      <td>15.365157</td>\n",
       "      <td>7.388849</td>\n",
       "    </tr>\n",
       "    <tr>\n",
       "      <th>8</th>\n",
       "      <td>Denmark</td>\n",
       "      <td>43.7</td>\n",
       "      <td>17.748560</td>\n",
       "      <td>6.702883</td>\n",
       "    </tr>\n",
       "    <tr>\n",
       "      <th>26</th>\n",
       "      <td>Norway</td>\n",
       "      <td>41.3</td>\n",
       "      <td>15.378291</td>\n",
       "      <td>3.843242</td>\n",
       "    </tr>\n",
       "  </tbody>\n",
       "</table>\n",
       "</div>"
      ],
      "text/plain": [
       "     Tournament  Hucha10      HuchaB      HuchaC\n",
       "41          USA    500.5  266.062265  158.748376\n",
       "30       Russia    494.2  173.700524   76.140673\n",
       "23        Japan    196.6   50.386316   43.205369\n",
       "0     Argentina   -267.1  -63.285473   40.952720\n",
       "3        Brazil     32.2   12.521216   32.008377\n",
       "39  Switzerland     65.7   13.971395   13.970378\n",
       "17     Finland      36.7   16.843731    7.774449\n",
       "38      Sweden      28.9   15.365157    7.388849\n",
       "8      Denmark      43.7   17.748560    6.702883\n",
       "26       Norway     41.3   15.378291    3.843242"
      ]
     },
     "execution_count": 26,
     "metadata": {},
     "output_type": "execute_result"
    }
   ],
   "source": [
    "footballTournament = sports[sports['Sport'] == 'Football'].groupby('Tournament', as_index=False)[['Hucha10','HuchaB','HuchaC']].sum()\n",
    "footballTournament.sort_values(by='HuchaC', ascending=False).head(10)"
   ]
  },
  {
   "cell_type": "markdown",
   "metadata": {},
   "source": [
    "# Estadística descriptiva"
   ]
  },
  {
   "cell_type": "code",
   "execution_count": 27,
   "metadata": {},
   "outputs": [],
   "source": [
    "datos = sports[['CuotaFavorito','Probabilidad','HuchaC','Sport']]"
   ]
  },
  {
   "cell_type": "markdown",
   "metadata": {},
   "source": [
    "#### Datos estadísticos globales"
   ]
  },
  {
   "cell_type": "code",
   "execution_count": 28,
   "metadata": {
    "scrolled": true
   },
   "outputs": [
    {
     "data": {
      "text/html": [
       "<div>\n",
       "<style scoped>\n",
       "    .dataframe tbody tr th:only-of-type {\n",
       "        vertical-align: middle;\n",
       "    }\n",
       "\n",
       "    .dataframe tbody tr th {\n",
       "        vertical-align: top;\n",
       "    }\n",
       "\n",
       "    .dataframe thead th {\n",
       "        text-align: right;\n",
       "    }\n",
       "</style>\n",
       "<table border=\"1\" class=\"dataframe\">\n",
       "  <thead>\n",
       "    <tr style=\"text-align: right;\">\n",
       "      <th></th>\n",
       "      <th>CuotaFavorito</th>\n",
       "      <th>Probabilidad</th>\n",
       "      <th>HuchaC</th>\n",
       "    </tr>\n",
       "  </thead>\n",
       "  <tbody>\n",
       "    <tr>\n",
       "      <th>count</th>\n",
       "      <td>245322.000000</td>\n",
       "      <td>245322.000000</td>\n",
       "      <td>245054.000000</td>\n",
       "    </tr>\n",
       "    <tr>\n",
       "      <th>mean</th>\n",
       "      <td>1.768716</td>\n",
       "      <td>60.004612</td>\n",
       "      <td>-0.193671</td>\n",
       "    </tr>\n",
       "    <tr>\n",
       "      <th>std</th>\n",
       "      <td>0.422697</td>\n",
       "      <td>14.966664</td>\n",
       "      <td>2.629404</td>\n",
       "    </tr>\n",
       "    <tr>\n",
       "      <th>min</th>\n",
       "      <td>1.000000</td>\n",
       "      <td>21.978022</td>\n",
       "      <td>-9.705080</td>\n",
       "    </tr>\n",
       "    <tr>\n",
       "      <th>25%</th>\n",
       "      <td>1.430000</td>\n",
       "      <td>47.619048</td>\n",
       "      <td>-2.320227</td>\n",
       "    </tr>\n",
       "    <tr>\n",
       "      <th>50%</th>\n",
       "      <td>1.720000</td>\n",
       "      <td>58.139535</td>\n",
       "      <td>1.120589</td>\n",
       "    </tr>\n",
       "    <tr>\n",
       "      <th>75%</th>\n",
       "      <td>2.100000</td>\n",
       "      <td>69.930070</td>\n",
       "      <td>2.180973</td>\n",
       "    </tr>\n",
       "    <tr>\n",
       "      <th>max</th>\n",
       "      <td>4.550000</td>\n",
       "      <td>100.000000</td>\n",
       "      <td>7.222222</td>\n",
       "    </tr>\n",
       "  </tbody>\n",
       "</table>\n",
       "</div>"
      ],
      "text/plain": [
       "       CuotaFavorito   Probabilidad         HuchaC\n",
       "count  245322.000000  245322.000000  245054.000000\n",
       "mean        1.768716      60.004612      -0.193671\n",
       "std         0.422697      14.966664       2.629404\n",
       "min         1.000000      21.978022      -9.705080\n",
       "25%         1.430000      47.619048      -2.320227\n",
       "50%         1.720000      58.139535       1.120589\n",
       "75%         2.100000      69.930070       2.180973\n",
       "max         4.550000     100.000000       7.222222"
      ]
     },
     "execution_count": 28,
     "metadata": {},
     "output_type": "execute_result"
    }
   ],
   "source": [
    "datos.describe()"
   ]
  },
  {
   "cell_type": "code",
   "execution_count": 29,
   "metadata": {},
   "outputs": [
    {
     "data": {
      "text/html": [
       "<div>\n",
       "<style scoped>\n",
       "    .dataframe tbody tr th:only-of-type {\n",
       "        vertical-align: middle;\n",
       "    }\n",
       "\n",
       "    .dataframe tbody tr th {\n",
       "        vertical-align: top;\n",
       "    }\n",
       "\n",
       "    .dataframe thead th {\n",
       "        text-align: right;\n",
       "    }\n",
       "</style>\n",
       "<table border=\"1\" class=\"dataframe\">\n",
       "  <thead>\n",
       "    <tr style=\"text-align: right;\">\n",
       "      <th></th>\n",
       "      <th>CuotaFavorito</th>\n",
       "      <th>Probabilidad</th>\n",
       "      <th>HuchaC</th>\n",
       "      <th>Sport</th>\n",
       "    </tr>\n",
       "  </thead>\n",
       "  <tbody>\n",
       "    <tr>\n",
       "      <th>0</th>\n",
       "      <td>2.2</td>\n",
       "      <td>45.454545</td>\n",
       "      <td>-1.677671</td>\n",
       "      <td>Football</td>\n",
       "    </tr>\n",
       "  </tbody>\n",
       "</table>\n",
       "</div>"
      ],
      "text/plain": [
       "   CuotaFavorito  Probabilidad    HuchaC     Sport\n",
       "0            2.2     45.454545 -1.677671  Football"
      ]
     },
     "execution_count": 29,
     "metadata": {},
     "output_type": "execute_result"
    }
   ],
   "source": [
    "datos.mode()"
   ]
  },
  {
   "cell_type": "markdown",
   "metadata": {},
   "source": [
    "#### Datos estadísticos Fútbol"
   ]
  },
  {
   "cell_type": "code",
   "execution_count": 30,
   "metadata": {},
   "outputs": [
    {
     "data": {
      "text/html": [
       "<div>\n",
       "<style scoped>\n",
       "    .dataframe tbody tr th:only-of-type {\n",
       "        vertical-align: middle;\n",
       "    }\n",
       "\n",
       "    .dataframe tbody tr th {\n",
       "        vertical-align: top;\n",
       "    }\n",
       "\n",
       "    .dataframe thead th {\n",
       "        text-align: right;\n",
       "    }\n",
       "</style>\n",
       "<table border=\"1\" class=\"dataframe\">\n",
       "  <thead>\n",
       "    <tr style=\"text-align: right;\">\n",
       "      <th></th>\n",
       "      <th>CuotaFavorito</th>\n",
       "      <th>Probabilidad</th>\n",
       "      <th>HuchaC</th>\n",
       "    </tr>\n",
       "  </thead>\n",
       "  <tbody>\n",
       "    <tr>\n",
       "      <th>count</th>\n",
       "      <td>160079.00000</td>\n",
       "      <td>160079.000000</td>\n",
       "      <td>160060.000000</td>\n",
       "    </tr>\n",
       "    <tr>\n",
       "      <th>mean</th>\n",
       "      <td>1.96442</td>\n",
       "      <td>52.943385</td>\n",
       "      <td>-0.147822</td>\n",
       "    </tr>\n",
       "    <tr>\n",
       "      <th>std</th>\n",
       "      <td>0.36955</td>\n",
       "      <td>11.120552</td>\n",
       "      <td>2.435801</td>\n",
       "    </tr>\n",
       "    <tr>\n",
       "      <th>min</th>\n",
       "      <td>1.01000</td>\n",
       "      <td>21.978022</td>\n",
       "      <td>-8.839223</td>\n",
       "    </tr>\n",
       "    <tr>\n",
       "      <th>25%</th>\n",
       "      <td>1.70000</td>\n",
       "      <td>43.478261</td>\n",
       "      <td>-2.121569</td>\n",
       "    </tr>\n",
       "    <tr>\n",
       "      <th>50%</th>\n",
       "      <td>2.00000</td>\n",
       "      <td>50.000000</td>\n",
       "      <td>-0.983452</td>\n",
       "    </tr>\n",
       "    <tr>\n",
       "      <th>75%</th>\n",
       "      <td>2.30000</td>\n",
       "      <td>58.823529</td>\n",
       "      <td>2.260012</td>\n",
       "    </tr>\n",
       "    <tr>\n",
       "      <th>max</th>\n",
       "      <td>4.55000</td>\n",
       "      <td>99.009901</td>\n",
       "      <td>7.222222</td>\n",
       "    </tr>\n",
       "  </tbody>\n",
       "</table>\n",
       "</div>"
      ],
      "text/plain": [
       "       CuotaFavorito   Probabilidad         HuchaC\n",
       "count   160079.00000  160079.000000  160060.000000\n",
       "mean         1.96442      52.943385      -0.147822\n",
       "std          0.36955      11.120552       2.435801\n",
       "min          1.01000      21.978022      -8.839223\n",
       "25%          1.70000      43.478261      -2.121569\n",
       "50%          2.00000      50.000000      -0.983452\n",
       "75%          2.30000      58.823529       2.260012\n",
       "max          4.55000      99.009901       7.222222"
      ]
     },
     "execution_count": 30,
     "metadata": {},
     "output_type": "execute_result"
    }
   ],
   "source": [
    "datos[datos['Sport'] == 'Football'].describe()"
   ]
  },
  {
   "cell_type": "code",
   "execution_count": 31,
   "metadata": {},
   "outputs": [
    {
     "data": {
      "text/html": [
       "<div>\n",
       "<style scoped>\n",
       "    .dataframe tbody tr th:only-of-type {\n",
       "        vertical-align: middle;\n",
       "    }\n",
       "\n",
       "    .dataframe tbody tr th {\n",
       "        vertical-align: top;\n",
       "    }\n",
       "\n",
       "    .dataframe thead th {\n",
       "        text-align: right;\n",
       "    }\n",
       "</style>\n",
       "<table border=\"1\" class=\"dataframe\">\n",
       "  <thead>\n",
       "    <tr style=\"text-align: right;\">\n",
       "      <th></th>\n",
       "      <th>CuotaFavorito</th>\n",
       "      <th>Probabilidad</th>\n",
       "      <th>HuchaC</th>\n",
       "      <th>Sport</th>\n",
       "    </tr>\n",
       "  </thead>\n",
       "  <tbody>\n",
       "    <tr>\n",
       "      <th>0</th>\n",
       "      <td>2.2</td>\n",
       "      <td>45.454545</td>\n",
       "      <td>-1.677671</td>\n",
       "      <td>Football</td>\n",
       "    </tr>\n",
       "  </tbody>\n",
       "</table>\n",
       "</div>"
      ],
      "text/plain": [
       "   CuotaFavorito  Probabilidad    HuchaC     Sport\n",
       "0            2.2     45.454545 -1.677671  Football"
      ]
     },
     "execution_count": 31,
     "metadata": {},
     "output_type": "execute_result"
    }
   ],
   "source": [
    "datos[datos['Sport'] == 'Football'].mode()"
   ]
  },
  {
   "cell_type": "code",
   "execution_count": 32,
   "metadata": {},
   "outputs": [
    {
     "data": {
      "text/plain": [
       "CuotaFavorito     2.000000\n",
       "Probabilidad     50.000000\n",
       "HuchaC           -0.983452\n",
       "dtype: float64"
      ]
     },
     "execution_count": 32,
     "metadata": {},
     "output_type": "execute_result"
    }
   ],
   "source": [
    "datos[datos['Sport'] == 'Football'].median()"
   ]
  },
  {
   "cell_type": "markdown",
   "metadata": {},
   "source": [
    "#### Datos estadísticos Baloncesto"
   ]
  },
  {
   "cell_type": "code",
   "execution_count": 33,
   "metadata": {},
   "outputs": [
    {
     "data": {
      "text/html": [
       "<div>\n",
       "<style scoped>\n",
       "    .dataframe tbody tr th:only-of-type {\n",
       "        vertical-align: middle;\n",
       "    }\n",
       "\n",
       "    .dataframe tbody tr th {\n",
       "        vertical-align: top;\n",
       "    }\n",
       "\n",
       "    .dataframe thead th {\n",
       "        text-align: right;\n",
       "    }\n",
       "</style>\n",
       "<table border=\"1\" class=\"dataframe\">\n",
       "  <thead>\n",
       "    <tr style=\"text-align: right;\">\n",
       "      <th></th>\n",
       "      <th>CuotaFavorito</th>\n",
       "      <th>Probabilidad</th>\n",
       "      <th>HuchaC</th>\n",
       "    </tr>\n",
       "  </thead>\n",
       "  <tbody>\n",
       "    <tr>\n",
       "      <th>count</th>\n",
       "      <td>12059.000000</td>\n",
       "      <td>12059.000000</td>\n",
       "      <td>12059.000000</td>\n",
       "    </tr>\n",
       "    <tr>\n",
       "      <th>mean</th>\n",
       "      <td>1.451994</td>\n",
       "      <td>70.792934</td>\n",
       "      <td>-0.165314</td>\n",
       "    </tr>\n",
       "    <tr>\n",
       "      <th>std</th>\n",
       "      <td>0.236604</td>\n",
       "      <td>11.947281</td>\n",
       "      <td>2.937175</td>\n",
       "    </tr>\n",
       "    <tr>\n",
       "      <th>min</th>\n",
       "      <td>1.000000</td>\n",
       "      <td>52.631579</td>\n",
       "      <td>-9.362175</td>\n",
       "    </tr>\n",
       "    <tr>\n",
       "      <th>25%</th>\n",
       "      <td>1.260000</td>\n",
       "      <td>60.975610</td>\n",
       "      <td>-3.342876</td>\n",
       "    </tr>\n",
       "    <tr>\n",
       "      <th>50%</th>\n",
       "      <td>1.440000</td>\n",
       "      <td>69.444444</td>\n",
       "      <td>1.358818</td>\n",
       "    </tr>\n",
       "    <tr>\n",
       "      <th>75%</th>\n",
       "      <td>1.640000</td>\n",
       "      <td>79.365079</td>\n",
       "      <td>2.090653</td>\n",
       "    </tr>\n",
       "    <tr>\n",
       "      <th>max</th>\n",
       "      <td>1.900000</td>\n",
       "      <td>100.000000</td>\n",
       "      <td>2.551724</td>\n",
       "    </tr>\n",
       "  </tbody>\n",
       "</table>\n",
       "</div>"
      ],
      "text/plain": [
       "       CuotaFavorito  Probabilidad        HuchaC\n",
       "count   12059.000000  12059.000000  12059.000000\n",
       "mean        1.451994     70.792934     -0.165314\n",
       "std         0.236604     11.947281      2.937175\n",
       "min         1.000000     52.631579     -9.362175\n",
       "25%         1.260000     60.975610     -3.342876\n",
       "50%         1.440000     69.444444      1.358818\n",
       "75%         1.640000     79.365079      2.090653\n",
       "max         1.900000    100.000000      2.551724"
      ]
     },
     "execution_count": 33,
     "metadata": {},
     "output_type": "execute_result"
    }
   ],
   "source": [
    "datos[datos['Sport'] == 'Basketball'].describe()"
   ]
  },
  {
   "cell_type": "code",
   "execution_count": 34,
   "metadata": {},
   "outputs": [
    {
     "data": {
      "text/html": [
       "<div>\n",
       "<style scoped>\n",
       "    .dataframe tbody tr th:only-of-type {\n",
       "        vertical-align: middle;\n",
       "    }\n",
       "\n",
       "    .dataframe tbody tr th {\n",
       "        vertical-align: top;\n",
       "    }\n",
       "\n",
       "    .dataframe thead th {\n",
       "        text-align: right;\n",
       "    }\n",
       "</style>\n",
       "<table border=\"1\" class=\"dataframe\">\n",
       "  <thead>\n",
       "    <tr style=\"text-align: right;\">\n",
       "      <th></th>\n",
       "      <th>CuotaFavorito</th>\n",
       "      <th>Probabilidad</th>\n",
       "      <th>HuchaC</th>\n",
       "      <th>Sport</th>\n",
       "    </tr>\n",
       "  </thead>\n",
       "  <tbody>\n",
       "    <tr>\n",
       "      <th>0</th>\n",
       "      <td>1.8</td>\n",
       "      <td>55.555556</td>\n",
       "      <td>2.316426</td>\n",
       "      <td>Basketball</td>\n",
       "    </tr>\n",
       "  </tbody>\n",
       "</table>\n",
       "</div>"
      ],
      "text/plain": [
       "   CuotaFavorito  Probabilidad    HuchaC       Sport\n",
       "0            1.8     55.555556  2.316426  Basketball"
      ]
     },
     "execution_count": 34,
     "metadata": {},
     "output_type": "execute_result"
    }
   ],
   "source": [
    "datos[datos['Sport'] == 'Basketball'].mode()"
   ]
  },
  {
   "cell_type": "code",
   "execution_count": 35,
   "metadata": {},
   "outputs": [
    {
     "data": {
      "text/plain": [
       "CuotaFavorito     1.440000\n",
       "Probabilidad     69.444444\n",
       "HuchaC            1.358818\n",
       "dtype: float64"
      ]
     },
     "execution_count": 35,
     "metadata": {},
     "output_type": "execute_result"
    }
   ],
   "source": [
    "datos[datos['Sport'] == 'Basketball'].median()"
   ]
  },
  {
   "cell_type": "markdown",
   "metadata": {},
   "source": [
    "#### Datos estadísticos Tenis"
   ]
  },
  {
   "cell_type": "code",
   "execution_count": 36,
   "metadata": {},
   "outputs": [
    {
     "data": {
      "text/html": [
       "<div>\n",
       "<style scoped>\n",
       "    .dataframe tbody tr th:only-of-type {\n",
       "        vertical-align: middle;\n",
       "    }\n",
       "\n",
       "    .dataframe tbody tr th {\n",
       "        vertical-align: top;\n",
       "    }\n",
       "\n",
       "    .dataframe thead th {\n",
       "        text-align: right;\n",
       "    }\n",
       "</style>\n",
       "<table border=\"1\" class=\"dataframe\">\n",
       "  <thead>\n",
       "    <tr style=\"text-align: right;\">\n",
       "      <th></th>\n",
       "      <th>CuotaFavorito</th>\n",
       "      <th>Probabilidad</th>\n",
       "      <th>HuchaC</th>\n",
       "    </tr>\n",
       "  </thead>\n",
       "  <tbody>\n",
       "    <tr>\n",
       "      <th>count</th>\n",
       "      <td>73184.000000</td>\n",
       "      <td>73184.000000</td>\n",
       "      <td>72935.000000</td>\n",
       "    </tr>\n",
       "    <tr>\n",
       "      <th>mean</th>\n",
       "      <td>1.392832</td>\n",
       "      <td>73.672324</td>\n",
       "      <td>-0.298977</td>\n",
       "    </tr>\n",
       "    <tr>\n",
       "      <th>std</th>\n",
       "      <td>0.222253</td>\n",
       "      <td>11.908509</td>\n",
       "      <td>2.960904</td>\n",
       "    </tr>\n",
       "    <tr>\n",
       "      <th>min</th>\n",
       "      <td>1.000000</td>\n",
       "      <td>52.383447</td>\n",
       "      <td>-9.705080</td>\n",
       "    </tr>\n",
       "    <tr>\n",
       "      <th>25%</th>\n",
       "      <td>1.200000</td>\n",
       "      <td>63.694268</td>\n",
       "      <td>-3.342876</td>\n",
       "    </tr>\n",
       "    <tr>\n",
       "      <th>50%</th>\n",
       "      <td>1.390000</td>\n",
       "      <td>71.942446</td>\n",
       "      <td>1.182147</td>\n",
       "    </tr>\n",
       "    <tr>\n",
       "      <th>75%</th>\n",
       "      <td>1.570000</td>\n",
       "      <td>83.333333</td>\n",
       "      <td>1.940233</td>\n",
       "    </tr>\n",
       "    <tr>\n",
       "      <th>max</th>\n",
       "      <td>1.909000</td>\n",
       "      <td>100.000000</td>\n",
       "      <td>2.745583</td>\n",
       "    </tr>\n",
       "  </tbody>\n",
       "</table>\n",
       "</div>"
      ],
      "text/plain": [
       "       CuotaFavorito  Probabilidad        HuchaC\n",
       "count   73184.000000  73184.000000  72935.000000\n",
       "mean        1.392832     73.672324     -0.298977\n",
       "std         0.222253     11.908509      2.960904\n",
       "min         1.000000     52.383447     -9.705080\n",
       "25%         1.200000     63.694268     -3.342876\n",
       "50%         1.390000     71.942446      1.182147\n",
       "75%         1.570000     83.333333      1.940233\n",
       "max         1.909000    100.000000      2.745583"
      ]
     },
     "execution_count": 36,
     "metadata": {},
     "output_type": "execute_result"
    }
   ],
   "source": [
    "datos[datos['Sport'] == 'Tennis'].describe()"
   ]
  },
  {
   "cell_type": "code",
   "execution_count": 37,
   "metadata": {},
   "outputs": [
    {
     "data": {
      "text/html": [
       "<div>\n",
       "<style scoped>\n",
       "    .dataframe tbody tr th:only-of-type {\n",
       "        vertical-align: middle;\n",
       "    }\n",
       "\n",
       "    .dataframe tbody tr th {\n",
       "        vertical-align: top;\n",
       "    }\n",
       "\n",
       "    .dataframe thead th {\n",
       "        text-align: right;\n",
       "    }\n",
       "</style>\n",
       "<table border=\"1\" class=\"dataframe\">\n",
       "  <thead>\n",
       "    <tr style=\"text-align: right;\">\n",
       "      <th></th>\n",
       "      <th>CuotaFavorito</th>\n",
       "      <th>Probabilidad</th>\n",
       "      <th>HuchaC</th>\n",
       "      <th>Sport</th>\n",
       "    </tr>\n",
       "  </thead>\n",
       "  <tbody>\n",
       "    <tr>\n",
       "      <th>0</th>\n",
       "      <td>1.4</td>\n",
       "      <td>71.428571</td>\n",
       "      <td>1.940233</td>\n",
       "      <td>Tennis</td>\n",
       "    </tr>\n",
       "  </tbody>\n",
       "</table>\n",
       "</div>"
      ],
      "text/plain": [
       "   CuotaFavorito  Probabilidad    HuchaC   Sport\n",
       "0            1.4     71.428571  1.940233  Tennis"
      ]
     },
     "execution_count": 37,
     "metadata": {},
     "output_type": "execute_result"
    }
   ],
   "source": [
    "datos[datos['Sport'] == 'Tennis'].mode()"
   ]
  },
  {
   "cell_type": "code",
   "execution_count": 38,
   "metadata": {},
   "outputs": [
    {
     "data": {
      "text/plain": [
       "CuotaFavorito     1.390000\n",
       "Probabilidad     71.942446\n",
       "HuchaC            1.182147\n",
       "dtype: float64"
      ]
     },
     "execution_count": 38,
     "metadata": {},
     "output_type": "execute_result"
    }
   ],
   "source": [
    "datos[datos['Sport'] == 'Tennis'].median()"
   ]
  },
  {
   "cell_type": "markdown",
   "metadata": {},
   "source": [
    "## Creamos un fichero excel para utilizar en Rstudio"
   ]
  },
  {
   "cell_type": "code",
   "execution_count": 39,
   "metadata": {},
   "outputs": [],
   "source": [
    "sports.to_csv(path+'visualizar_rstudio.csv')"
   ]
  }
 ],
 "metadata": {
  "kernelspec": {
   "display_name": "Python 3",
   "language": "python",
   "name": "python3"
  },
  "language_info": {
   "codemirror_mode": {
    "name": "ipython",
    "version": 3
   },
   "file_extension": ".py",
   "mimetype": "text/x-python",
   "name": "python",
   "nbconvert_exporter": "python",
   "pygments_lexer": "ipython3",
   "version": "3.6.4"
  }
 },
 "nbformat": 4,
 "nbformat_minor": 2
}
