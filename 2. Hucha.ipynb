{
 "cells": [
  {
   "cell_type": "code",
   "execution_count": 1,
   "metadata": {},
   "outputs": [],
   "source": [
    "#Librerias\n",
    "import pandas as pd\n",
    "import numpy as np\n",
    "import os"
   ]
  },
  {
   "cell_type": "code",
   "execution_count": 2,
   "metadata": {},
   "outputs": [],
   "source": [
    "path = 'Data/'\n",
    "sports = pd.read_excel(path+'sports.xlsx')"
   ]
  },
  {
   "cell_type": "code",
   "execution_count": 3,
   "metadata": {},
   "outputs": [
    {
     "data": {
      "text/html": [
       "<div>\n",
       "<style scoped>\n",
       "    .dataframe tbody tr th:only-of-type {\n",
       "        vertical-align: middle;\n",
       "    }\n",
       "\n",
       "    .dataframe tbody tr th {\n",
       "        vertical-align: top;\n",
       "    }\n",
       "\n",
       "    .dataframe thead th {\n",
       "        text-align: right;\n",
       "    }\n",
       "</style>\n",
       "<table border=\"1\" class=\"dataframe\">\n",
       "  <thead>\n",
       "    <tr style=\"text-align: right;\">\n",
       "      <th></th>\n",
       "      <th>CuotaFavorito</th>\n",
       "      <th>Date</th>\n",
       "      <th>Favorito</th>\n",
       "      <th>GanaFavorito</th>\n",
       "      <th>Sport</th>\n",
       "      <th>Tournament</th>\n",
       "    </tr>\n",
       "  </thead>\n",
       "  <tbody>\n",
       "    <tr>\n",
       "      <th>0</th>\n",
       "      <td>2.20</td>\n",
       "      <td>2000-08-19</td>\n",
       "      <td>H</td>\n",
       "      <td>1</td>\n",
       "      <td>Football</td>\n",
       "      <td>E0</td>\n",
       "    </tr>\n",
       "    <tr>\n",
       "      <th>1</th>\n",
       "      <td>1.60</td>\n",
       "      <td>2000-08-19</td>\n",
       "      <td>H</td>\n",
       "      <td>1</td>\n",
       "      <td>Football</td>\n",
       "      <td>E0</td>\n",
       "    </tr>\n",
       "    <tr>\n",
       "      <th>2</th>\n",
       "      <td>2.20</td>\n",
       "      <td>2000-08-19</td>\n",
       "      <td>H</td>\n",
       "      <td>0</td>\n",
       "      <td>Football</td>\n",
       "      <td>E0</td>\n",
       "    </tr>\n",
       "    <tr>\n",
       "      <th>3</th>\n",
       "      <td>1.80</td>\n",
       "      <td>2000-08-19</td>\n",
       "      <td>H</td>\n",
       "      <td>0</td>\n",
       "      <td>Football</td>\n",
       "      <td>E0</td>\n",
       "    </tr>\n",
       "    <tr>\n",
       "      <th>4</th>\n",
       "      <td>1.55</td>\n",
       "      <td>2000-08-19</td>\n",
       "      <td>H</td>\n",
       "      <td>1</td>\n",
       "      <td>Football</td>\n",
       "      <td>E0</td>\n",
       "    </tr>\n",
       "  </tbody>\n",
       "</table>\n",
       "</div>"
      ],
      "text/plain": [
       "   CuotaFavorito       Date Favorito  GanaFavorito     Sport Tournament\n",
       "0           2.20 2000-08-19        H             1  Football         E0\n",
       "1           1.60 2000-08-19        H             1  Football         E0\n",
       "2           2.20 2000-08-19        H             0  Football         E0\n",
       "3           1.80 2000-08-19        H             0  Football         E0\n",
       "4           1.55 2000-08-19        H             1  Football         E0"
      ]
     },
     "execution_count": 3,
     "metadata": {},
     "output_type": "execute_result"
    }
   ],
   "source": [
    "sports.head()"
   ]
  },
  {
   "cell_type": "code",
   "execution_count": 4,
   "metadata": {},
   "outputs": [],
   "source": [
    "#Creamos una función que convierta la cuota en una probabilidad, para así hacer un análisis más sencillo.\n",
    "#Esta probabilidad será la que tiene de ganar el favorito\n",
    "\n",
    "def prob(a):\n",
    "    return (1/a)*100"
   ]
  },
  {
   "cell_type": "code",
   "execution_count": 5,
   "metadata": {},
   "outputs": [],
   "source": [
    "sports['Probabilidad'] = sports['CuotaFavorito'].apply(prob)"
   ]
  },
  {
   "cell_type": "code",
   "execution_count": 6,
   "metadata": {},
   "outputs": [
    {
     "data": {
      "text/html": [
       "<div>\n",
       "<style scoped>\n",
       "    .dataframe tbody tr th:only-of-type {\n",
       "        vertical-align: middle;\n",
       "    }\n",
       "\n",
       "    .dataframe tbody tr th {\n",
       "        vertical-align: top;\n",
       "    }\n",
       "\n",
       "    .dataframe thead th {\n",
       "        text-align: right;\n",
       "    }\n",
       "</style>\n",
       "<table border=\"1\" class=\"dataframe\">\n",
       "  <thead>\n",
       "    <tr style=\"text-align: right;\">\n",
       "      <th></th>\n",
       "      <th>CuotaFavorito</th>\n",
       "      <th>Date</th>\n",
       "      <th>Favorito</th>\n",
       "      <th>GanaFavorito</th>\n",
       "      <th>Sport</th>\n",
       "      <th>Tournament</th>\n",
       "      <th>Probabilidad</th>\n",
       "    </tr>\n",
       "  </thead>\n",
       "  <tbody>\n",
       "    <tr>\n",
       "      <th>0</th>\n",
       "      <td>2.20</td>\n",
       "      <td>2000-08-19</td>\n",
       "      <td>H</td>\n",
       "      <td>1</td>\n",
       "      <td>Football</td>\n",
       "      <td>E0</td>\n",
       "      <td>45.454545</td>\n",
       "    </tr>\n",
       "    <tr>\n",
       "      <th>1</th>\n",
       "      <td>1.60</td>\n",
       "      <td>2000-08-19</td>\n",
       "      <td>H</td>\n",
       "      <td>1</td>\n",
       "      <td>Football</td>\n",
       "      <td>E0</td>\n",
       "      <td>62.500000</td>\n",
       "    </tr>\n",
       "    <tr>\n",
       "      <th>2</th>\n",
       "      <td>2.20</td>\n",
       "      <td>2000-08-19</td>\n",
       "      <td>H</td>\n",
       "      <td>0</td>\n",
       "      <td>Football</td>\n",
       "      <td>E0</td>\n",
       "      <td>45.454545</td>\n",
       "    </tr>\n",
       "    <tr>\n",
       "      <th>3</th>\n",
       "      <td>1.80</td>\n",
       "      <td>2000-08-19</td>\n",
       "      <td>H</td>\n",
       "      <td>0</td>\n",
       "      <td>Football</td>\n",
       "      <td>E0</td>\n",
       "      <td>55.555556</td>\n",
       "    </tr>\n",
       "    <tr>\n",
       "      <th>4</th>\n",
       "      <td>1.55</td>\n",
       "      <td>2000-08-19</td>\n",
       "      <td>H</td>\n",
       "      <td>1</td>\n",
       "      <td>Football</td>\n",
       "      <td>E0</td>\n",
       "      <td>64.516129</td>\n",
       "    </tr>\n",
       "  </tbody>\n",
       "</table>\n",
       "</div>"
      ],
      "text/plain": [
       "   CuotaFavorito       Date Favorito  GanaFavorito     Sport Tournament  \\\n",
       "0           2.20 2000-08-19        H             1  Football         E0   \n",
       "1           1.60 2000-08-19        H             1  Football         E0   \n",
       "2           2.20 2000-08-19        H             0  Football         E0   \n",
       "3           1.80 2000-08-19        H             0  Football         E0   \n",
       "4           1.55 2000-08-19        H             1  Football         E0   \n",
       "\n",
       "   Probabilidad  \n",
       "0     45.454545  \n",
       "1     62.500000  \n",
       "2     45.454545  \n",
       "3     55.555556  \n",
       "4     64.516129  "
      ]
     },
     "execution_count": 6,
     "metadata": {},
     "output_type": "execute_result"
    }
   ],
   "source": [
    "sports.head()"
   ]
  },
  {
   "cell_type": "code",
   "execution_count": 7,
   "metadata": {},
   "outputs": [
    {
     "data": {
      "text/plain": [
       "CuotaFavorito           float64\n",
       "Date             datetime64[ns]\n",
       "Favorito                 object\n",
       "GanaFavorito              int64\n",
       "Sport                    object\n",
       "Tournament               object\n",
       "Probabilidad            float64\n",
       "dtype: object"
      ]
     },
     "execution_count": 7,
     "metadata": {},
     "output_type": "execute_result"
    }
   ],
   "source": [
    "sports.dtypes"
   ]
  },
  {
   "cell_type": "markdown",
   "metadata": {},
   "source": [
    "## El primer análisis que haremos será apostar 10€ siempre al favorito."
   ]
  },
  {
   "cell_type": "code",
   "execution_count": 8,
   "metadata": {},
   "outputs": [],
   "source": [
    "sports['Hucha100'] = np.where(sports['GanaFavorito'] == 1, sports['CuotaFavorito']*10-10, -10)"
   ]
  },
  {
   "cell_type": "code",
   "execution_count": 20,
   "metadata": {},
   "outputs": [
    {
     "data": {
      "text/html": [
       "<div>\n",
       "<style scoped>\n",
       "    .dataframe tbody tr th:only-of-type {\n",
       "        vertical-align: middle;\n",
       "    }\n",
       "\n",
       "    .dataframe tbody tr th {\n",
       "        vertical-align: top;\n",
       "    }\n",
       "\n",
       "    .dataframe thead th {\n",
       "        text-align: right;\n",
       "    }\n",
       "</style>\n",
       "<table border=\"1\" class=\"dataframe\">\n",
       "  <thead>\n",
       "    <tr style=\"text-align: right;\">\n",
       "      <th></th>\n",
       "      <th>CuotaFavorito</th>\n",
       "      <th>Date</th>\n",
       "      <th>Favorito</th>\n",
       "      <th>GanaFavorito</th>\n",
       "      <th>Sport</th>\n",
       "      <th>Tournament</th>\n",
       "      <th>Probabilidad</th>\n",
       "      <th>Hucha100</th>\n",
       "      <th>HuchaB</th>\n",
       "    </tr>\n",
       "  </thead>\n",
       "  <tbody>\n",
       "    <tr>\n",
       "      <th>0</th>\n",
       "      <td>2.20</td>\n",
       "      <td>2000-08-19</td>\n",
       "      <td>H</td>\n",
       "      <td>1</td>\n",
       "      <td>Football</td>\n",
       "      <td>E0</td>\n",
       "      <td>45.454545</td>\n",
       "      <td>12.0</td>\n",
       "      <td>5.454545</td>\n",
       "    </tr>\n",
       "    <tr>\n",
       "      <th>1</th>\n",
       "      <td>1.60</td>\n",
       "      <td>2000-08-19</td>\n",
       "      <td>H</td>\n",
       "      <td>1</td>\n",
       "      <td>Football</td>\n",
       "      <td>E0</td>\n",
       "      <td>62.500000</td>\n",
       "      <td>6.0</td>\n",
       "      <td>3.750000</td>\n",
       "    </tr>\n",
       "    <tr>\n",
       "      <th>2</th>\n",
       "      <td>2.20</td>\n",
       "      <td>2000-08-19</td>\n",
       "      <td>H</td>\n",
       "      <td>0</td>\n",
       "      <td>Football</td>\n",
       "      <td>E0</td>\n",
       "      <td>45.454545</td>\n",
       "      <td>-10.0</td>\n",
       "      <td>-4.545455</td>\n",
       "    </tr>\n",
       "    <tr>\n",
       "      <th>3</th>\n",
       "      <td>1.80</td>\n",
       "      <td>2000-08-19</td>\n",
       "      <td>H</td>\n",
       "      <td>0</td>\n",
       "      <td>Football</td>\n",
       "      <td>E0</td>\n",
       "      <td>55.555556</td>\n",
       "      <td>-10.0</td>\n",
       "      <td>-5.555556</td>\n",
       "    </tr>\n",
       "    <tr>\n",
       "      <th>4</th>\n",
       "      <td>1.55</td>\n",
       "      <td>2000-08-19</td>\n",
       "      <td>H</td>\n",
       "      <td>1</td>\n",
       "      <td>Football</td>\n",
       "      <td>E0</td>\n",
       "      <td>64.516129</td>\n",
       "      <td>5.5</td>\n",
       "      <td>3.548387</td>\n",
       "    </tr>\n",
       "  </tbody>\n",
       "</table>\n",
       "</div>"
      ],
      "text/plain": [
       "   CuotaFavorito       Date Favorito  GanaFavorito     Sport Tournament  \\\n",
       "0           2.20 2000-08-19        H             1  Football         E0   \n",
       "1           1.60 2000-08-19        H             1  Football         E0   \n",
       "2           2.20 2000-08-19        H             0  Football         E0   \n",
       "3           1.80 2000-08-19        H             0  Football         E0   \n",
       "4           1.55 2000-08-19        H             1  Football         E0   \n",
       "\n",
       "   Probabilidad  Hucha100    HuchaB  \n",
       "0     45.454545      12.0  5.454545  \n",
       "1     62.500000       6.0  3.750000  \n",
       "2     45.454545     -10.0 -4.545455  \n",
       "3     55.555556     -10.0 -5.555556  \n",
       "4     64.516129       5.5  3.548387  "
      ]
     },
     "execution_count": 20,
     "metadata": {},
     "output_type": "execute_result"
    }
   ],
   "source": [
    "sports.head()"
   ]
  },
  {
   "cell_type": "code",
   "execution_count": 21,
   "metadata": {},
   "outputs": [
    {
     "data": {
      "text/plain": [
       "-163289.0"
      ]
     },
     "execution_count": 21,
     "metadata": {},
     "output_type": "execute_result"
    }
   ],
   "source": [
    "sports['Hucha100'].sum()"
   ]
  },
  {
   "cell_type": "code",
   "execution_count": 22,
   "metadata": {},
   "outputs": [],
   "source": [
    "sports['HuchaB'] = np.where(sports['GanaFavorito'] == 1, (sports['CuotaFavorito']*sports['Probabilidad']/10)-(sports['Probabilidad']/10), -sports['Probabilidad']/10)"
   ]
  },
  {
   "cell_type": "code",
   "execution_count": 23,
   "metadata": {},
   "outputs": [
    {
     "data": {
      "text/plain": [
       "-92195.14371700516"
      ]
     },
     "execution_count": 23,
     "metadata": {},
     "output_type": "execute_result"
    }
   ],
   "source": [
    "sports['HuchaB'].sum()"
   ]
  },
  {
   "cell_type": "code",
   "execution_count": null,
   "metadata": {},
   "outputs": [],
   "source": []
  },
  {
   "cell_type": "code",
   "execution_count": null,
   "metadata": {},
   "outputs": [],
   "source": []
  },
  {
   "cell_type": "code",
   "execution_count": 24,
   "metadata": {},
   "outputs": [],
   "source": [
    "favoritos = sports[sports['GanaFavorito'] == 1]"
   ]
  },
  {
   "cell_type": "code",
   "execution_count": 39,
   "metadata": {
    "scrolled": true
   },
   "outputs": [
    {
     "data": {
      "text/html": [
       "<div>\n",
       "<style scoped>\n",
       "    .dataframe tbody tr th:only-of-type {\n",
       "        vertical-align: middle;\n",
       "    }\n",
       "\n",
       "    .dataframe tbody tr th {\n",
       "        vertical-align: top;\n",
       "    }\n",
       "\n",
       "    .dataframe thead th {\n",
       "        text-align: right;\n",
       "    }\n",
       "</style>\n",
       "<table border=\"1\" class=\"dataframe\">\n",
       "  <thead>\n",
       "    <tr style=\"text-align: right;\">\n",
       "      <th></th>\n",
       "      <th>CuotaFavorito</th>\n",
       "      <th>Date</th>\n",
       "      <th>Favorito</th>\n",
       "      <th>GanaFavorito</th>\n",
       "      <th>Sport</th>\n",
       "      <th>Tournament</th>\n",
       "      <th>Probabilidad</th>\n",
       "      <th>Hucha100</th>\n",
       "      <th>HuchaB</th>\n",
       "    </tr>\n",
       "  </thead>\n",
       "  <tbody>\n",
       "    <tr>\n",
       "      <th>0</th>\n",
       "      <td>2.20</td>\n",
       "      <td>2000-08-19</td>\n",
       "      <td>H</td>\n",
       "      <td>1</td>\n",
       "      <td>Football</td>\n",
       "      <td>E0</td>\n",
       "      <td>45.454545</td>\n",
       "      <td>12.0</td>\n",
       "      <td>5.454545</td>\n",
       "    </tr>\n",
       "    <tr>\n",
       "      <th>1</th>\n",
       "      <td>1.60</td>\n",
       "      <td>2000-08-19</td>\n",
       "      <td>H</td>\n",
       "      <td>1</td>\n",
       "      <td>Football</td>\n",
       "      <td>E0</td>\n",
       "      <td>62.500000</td>\n",
       "      <td>6.0</td>\n",
       "      <td>3.750000</td>\n",
       "    </tr>\n",
       "    <tr>\n",
       "      <th>4</th>\n",
       "      <td>1.55</td>\n",
       "      <td>2000-08-19</td>\n",
       "      <td>H</td>\n",
       "      <td>1</td>\n",
       "      <td>Football</td>\n",
       "      <td>E0</td>\n",
       "      <td>64.516129</td>\n",
       "      <td>5.5</td>\n",
       "      <td>3.548387</td>\n",
       "    </tr>\n",
       "    <tr>\n",
       "      <th>6</th>\n",
       "      <td>1.25</td>\n",
       "      <td>2000-08-19</td>\n",
       "      <td>H</td>\n",
       "      <td>1</td>\n",
       "      <td>Football</td>\n",
       "      <td>E0</td>\n",
       "      <td>80.000000</td>\n",
       "      <td>2.5</td>\n",
       "      <td>2.000000</td>\n",
       "    </tr>\n",
       "    <tr>\n",
       "      <th>8</th>\n",
       "      <td>1.50</td>\n",
       "      <td>2000-08-19</td>\n",
       "      <td>H</td>\n",
       "      <td>1</td>\n",
       "      <td>Football</td>\n",
       "      <td>E0</td>\n",
       "      <td>66.666667</td>\n",
       "      <td>5.0</td>\n",
       "      <td>3.333333</td>\n",
       "    </tr>\n",
       "  </tbody>\n",
       "</table>\n",
       "</div>"
      ],
      "text/plain": [
       "   CuotaFavorito       Date Favorito  GanaFavorito     Sport Tournament  \\\n",
       "0           2.20 2000-08-19        H             1  Football         E0   \n",
       "1           1.60 2000-08-19        H             1  Football         E0   \n",
       "4           1.55 2000-08-19        H             1  Football         E0   \n",
       "6           1.25 2000-08-19        H             1  Football         E0   \n",
       "8           1.50 2000-08-19        H             1  Football         E0   \n",
       "\n",
       "   Probabilidad  Hucha100    HuchaB  \n",
       "0     45.454545      12.0  5.454545  \n",
       "1     62.500000       6.0  3.750000  \n",
       "4     64.516129       5.5  3.548387  \n",
       "6     80.000000       2.5  2.000000  \n",
       "8     66.666667       5.0  3.333333  "
      ]
     },
     "execution_count": 39,
     "metadata": {},
     "output_type": "execute_result"
    }
   ],
   "source": [
    "favoritos.head()"
   ]
  },
  {
   "cell_type": "code",
   "execution_count": 26,
   "metadata": {},
   "outputs": [],
   "source": [
    "bb = favoritos.groupby('CuotaFavorito',as_index=False)['GanaFavorito'].sum()"
   ]
  },
  {
   "cell_type": "code",
   "execution_count": 28,
   "metadata": {
    "scrolled": true
   },
   "outputs": [
    {
     "data": {
      "text/html": [
       "<div>\n",
       "<style scoped>\n",
       "    .dataframe tbody tr th:only-of-type {\n",
       "        vertical-align: middle;\n",
       "    }\n",
       "\n",
       "    .dataframe tbody tr th {\n",
       "        vertical-align: top;\n",
       "    }\n",
       "\n",
       "    .dataframe thead th {\n",
       "        text-align: right;\n",
       "    }\n",
       "</style>\n",
       "<table border=\"1\" class=\"dataframe\">\n",
       "  <thead>\n",
       "    <tr style=\"text-align: right;\">\n",
       "      <th></th>\n",
       "      <th>CuotaFavorito</th>\n",
       "      <th>GanaFavorito</th>\n",
       "    </tr>\n",
       "  </thead>\n",
       "  <tbody>\n",
       "    <tr>\n",
       "      <th>0</th>\n",
       "      <td>1.000</td>\n",
       "      <td>96</td>\n",
       "    </tr>\n",
       "    <tr>\n",
       "      <th>1</th>\n",
       "      <td>1.001</td>\n",
       "      <td>1</td>\n",
       "    </tr>\n",
       "    <tr>\n",
       "      <th>2</th>\n",
       "      <td>1.002</td>\n",
       "      <td>57</td>\n",
       "    </tr>\n",
       "    <tr>\n",
       "      <th>3</th>\n",
       "      <td>1.003</td>\n",
       "      <td>1</td>\n",
       "    </tr>\n",
       "    <tr>\n",
       "      <th>4</th>\n",
       "      <td>1.005</td>\n",
       "      <td>103</td>\n",
       "    </tr>\n",
       "    <tr>\n",
       "      <th>5</th>\n",
       "      <td>1.010</td>\n",
       "      <td>644</td>\n",
       "    </tr>\n",
       "    <tr>\n",
       "      <th>6</th>\n",
       "      <td>1.015</td>\n",
       "      <td>2</td>\n",
       "    </tr>\n",
       "    <tr>\n",
       "      <th>7</th>\n",
       "      <td>1.020</td>\n",
       "      <td>657</td>\n",
       "    </tr>\n",
       "    <tr>\n",
       "      <th>8</th>\n",
       "      <td>1.030</td>\n",
       "      <td>640</td>\n",
       "    </tr>\n",
       "    <tr>\n",
       "      <th>9</th>\n",
       "      <td>1.040</td>\n",
       "      <td>739</td>\n",
       "    </tr>\n",
       "  </tbody>\n",
       "</table>\n",
       "</div>"
      ],
      "text/plain": [
       "   CuotaFavorito  GanaFavorito\n",
       "0          1.000            96\n",
       "1          1.001             1\n",
       "2          1.002            57\n",
       "3          1.003             1\n",
       "4          1.005           103\n",
       "5          1.010           644\n",
       "6          1.015             2\n",
       "7          1.020           657\n",
       "8          1.030           640\n",
       "9          1.040           739"
      ]
     },
     "execution_count": 28,
     "metadata": {},
     "output_type": "execute_result"
    }
   ],
   "source": [
    "bb.head(10)"
   ]
  },
  {
   "cell_type": "code",
   "execution_count": 29,
   "metadata": {},
   "outputs": [],
   "source": [
    "aa = sports.groupby('CuotaFavorito',as_index=False)['Favorito'].count()"
   ]
  },
  {
   "cell_type": "code",
   "execution_count": 31,
   "metadata": {},
   "outputs": [
    {
     "data": {
      "text/html": [
       "<div>\n",
       "<style scoped>\n",
       "    .dataframe tbody tr th:only-of-type {\n",
       "        vertical-align: middle;\n",
       "    }\n",
       "\n",
       "    .dataframe tbody tr th {\n",
       "        vertical-align: top;\n",
       "    }\n",
       "\n",
       "    .dataframe thead th {\n",
       "        text-align: right;\n",
       "    }\n",
       "</style>\n",
       "<table border=\"1\" class=\"dataframe\">\n",
       "  <thead>\n",
       "    <tr style=\"text-align: right;\">\n",
       "      <th></th>\n",
       "      <th>CuotaFavorito</th>\n",
       "      <th>Favorito</th>\n",
       "    </tr>\n",
       "  </thead>\n",
       "  <tbody>\n",
       "    <tr>\n",
       "      <th>0</th>\n",
       "      <td>1.000</td>\n",
       "      <td>96</td>\n",
       "    </tr>\n",
       "    <tr>\n",
       "      <th>1</th>\n",
       "      <td>1.001</td>\n",
       "      <td>1</td>\n",
       "    </tr>\n",
       "    <tr>\n",
       "      <th>2</th>\n",
       "      <td>1.002</td>\n",
       "      <td>60</td>\n",
       "    </tr>\n",
       "    <tr>\n",
       "      <th>3</th>\n",
       "      <td>1.003</td>\n",
       "      <td>1</td>\n",
       "    </tr>\n",
       "    <tr>\n",
       "      <th>4</th>\n",
       "      <td>1.005</td>\n",
       "      <td>103</td>\n",
       "    </tr>\n",
       "    <tr>\n",
       "      <th>5</th>\n",
       "      <td>1.010</td>\n",
       "      <td>657</td>\n",
       "    </tr>\n",
       "    <tr>\n",
       "      <th>6</th>\n",
       "      <td>1.015</td>\n",
       "      <td>2</td>\n",
       "    </tr>\n",
       "    <tr>\n",
       "      <th>7</th>\n",
       "      <td>1.020</td>\n",
       "      <td>688</td>\n",
       "    </tr>\n",
       "    <tr>\n",
       "      <th>8</th>\n",
       "      <td>1.030</td>\n",
       "      <td>665</td>\n",
       "    </tr>\n",
       "    <tr>\n",
       "      <th>9</th>\n",
       "      <td>1.040</td>\n",
       "      <td>783</td>\n",
       "    </tr>\n",
       "  </tbody>\n",
       "</table>\n",
       "</div>"
      ],
      "text/plain": [
       "   CuotaFavorito  Favorito\n",
       "0          1.000        96\n",
       "1          1.001         1\n",
       "2          1.002        60\n",
       "3          1.003         1\n",
       "4          1.005       103\n",
       "5          1.010       657\n",
       "6          1.015         2\n",
       "7          1.020       688\n",
       "8          1.030       665\n",
       "9          1.040       783"
      ]
     },
     "execution_count": 31,
     "metadata": {},
     "output_type": "execute_result"
    }
   ],
   "source": [
    "aa.head(10)"
   ]
  },
  {
   "cell_type": "code",
   "execution_count": 32,
   "metadata": {
    "scrolled": true
   },
   "outputs": [],
   "source": [
    "cc = aa.merge(bb, how='left')"
   ]
  },
  {
   "cell_type": "code",
   "execution_count": 34,
   "metadata": {
    "scrolled": true
   },
   "outputs": [
    {
     "data": {
      "text/html": [
       "<div>\n",
       "<style scoped>\n",
       "    .dataframe tbody tr th:only-of-type {\n",
       "        vertical-align: middle;\n",
       "    }\n",
       "\n",
       "    .dataframe tbody tr th {\n",
       "        vertical-align: top;\n",
       "    }\n",
       "\n",
       "    .dataframe thead th {\n",
       "        text-align: right;\n",
       "    }\n",
       "</style>\n",
       "<table border=\"1\" class=\"dataframe\">\n",
       "  <thead>\n",
       "    <tr style=\"text-align: right;\">\n",
       "      <th></th>\n",
       "      <th>CuotaFavorito</th>\n",
       "      <th>Favorito</th>\n",
       "      <th>GanaFavorito</th>\n",
       "    </tr>\n",
       "  </thead>\n",
       "  <tbody>\n",
       "    <tr>\n",
       "      <th>0</th>\n",
       "      <td>1.000</td>\n",
       "      <td>96</td>\n",
       "      <td>96.0</td>\n",
       "    </tr>\n",
       "    <tr>\n",
       "      <th>1</th>\n",
       "      <td>1.001</td>\n",
       "      <td>1</td>\n",
       "      <td>1.0</td>\n",
       "    </tr>\n",
       "    <tr>\n",
       "      <th>2</th>\n",
       "      <td>1.002</td>\n",
       "      <td>60</td>\n",
       "      <td>57.0</td>\n",
       "    </tr>\n",
       "    <tr>\n",
       "      <th>3</th>\n",
       "      <td>1.003</td>\n",
       "      <td>1</td>\n",
       "      <td>1.0</td>\n",
       "    </tr>\n",
       "    <tr>\n",
       "      <th>4</th>\n",
       "      <td>1.005</td>\n",
       "      <td>103</td>\n",
       "      <td>103.0</td>\n",
       "    </tr>\n",
       "    <tr>\n",
       "      <th>5</th>\n",
       "      <td>1.010</td>\n",
       "      <td>657</td>\n",
       "      <td>644.0</td>\n",
       "    </tr>\n",
       "    <tr>\n",
       "      <th>6</th>\n",
       "      <td>1.015</td>\n",
       "      <td>2</td>\n",
       "      <td>2.0</td>\n",
       "    </tr>\n",
       "    <tr>\n",
       "      <th>7</th>\n",
       "      <td>1.020</td>\n",
       "      <td>688</td>\n",
       "      <td>657.0</td>\n",
       "    </tr>\n",
       "    <tr>\n",
       "      <th>8</th>\n",
       "      <td>1.030</td>\n",
       "      <td>665</td>\n",
       "      <td>640.0</td>\n",
       "    </tr>\n",
       "    <tr>\n",
       "      <th>9</th>\n",
       "      <td>1.040</td>\n",
       "      <td>783</td>\n",
       "      <td>739.0</td>\n",
       "    </tr>\n",
       "  </tbody>\n",
       "</table>\n",
       "</div>"
      ],
      "text/plain": [
       "   CuotaFavorito  Favorito  GanaFavorito\n",
       "0          1.000        96          96.0\n",
       "1          1.001         1           1.0\n",
       "2          1.002        60          57.0\n",
       "3          1.003         1           1.0\n",
       "4          1.005       103         103.0\n",
       "5          1.010       657         644.0\n",
       "6          1.015         2           2.0\n",
       "7          1.020       688         657.0\n",
       "8          1.030       665         640.0\n",
       "9          1.040       783         739.0"
      ]
     },
     "execution_count": 34,
     "metadata": {},
     "output_type": "execute_result"
    }
   ],
   "source": [
    "cc.head(10)"
   ]
  },
  {
   "cell_type": "code",
   "execution_count": 35,
   "metadata": {},
   "outputs": [],
   "source": [
    "cc['Porcentaje'] = cc['GanaFavorito']/cc['Favorito']"
   ]
  },
  {
   "cell_type": "code",
   "execution_count": 41,
   "metadata": {},
   "outputs": [
    {
     "data": {
      "text/html": [
       "<div>\n",
       "<style scoped>\n",
       "    .dataframe tbody tr th:only-of-type {\n",
       "        vertical-align: middle;\n",
       "    }\n",
       "\n",
       "    .dataframe tbody tr th {\n",
       "        vertical-align: top;\n",
       "    }\n",
       "\n",
       "    .dataframe thead th {\n",
       "        text-align: right;\n",
       "    }\n",
       "</style>\n",
       "<table border=\"1\" class=\"dataframe\">\n",
       "  <thead>\n",
       "    <tr style=\"text-align: right;\">\n",
       "      <th></th>\n",
       "      <th>CuotaFavorito</th>\n",
       "      <th>Favorito</th>\n",
       "      <th>GanaFavorito</th>\n",
       "      <th>Porcentaje</th>\n",
       "      <th>Probabilidad</th>\n",
       "      <th>Indicador</th>\n",
       "    </tr>\n",
       "  </thead>\n",
       "  <tbody>\n",
       "    <tr>\n",
       "      <th>0</th>\n",
       "      <td>1.000</td>\n",
       "      <td>96</td>\n",
       "      <td>96.0</td>\n",
       "      <td>1.000000</td>\n",
       "      <td>100.000000</td>\n",
       "      <td>100.000000</td>\n",
       "    </tr>\n",
       "    <tr>\n",
       "      <th>1</th>\n",
       "      <td>1.001</td>\n",
       "      <td>1</td>\n",
       "      <td>1.0</td>\n",
       "      <td>1.000000</td>\n",
       "      <td>99.900100</td>\n",
       "      <td>99.900100</td>\n",
       "    </tr>\n",
       "    <tr>\n",
       "      <th>2</th>\n",
       "      <td>1.002</td>\n",
       "      <td>60</td>\n",
       "      <td>57.0</td>\n",
       "      <td>0.950000</td>\n",
       "      <td>99.800399</td>\n",
       "      <td>94.810379</td>\n",
       "    </tr>\n",
       "    <tr>\n",
       "      <th>3</th>\n",
       "      <td>1.003</td>\n",
       "      <td>1</td>\n",
       "      <td>1.0</td>\n",
       "      <td>1.000000</td>\n",
       "      <td>99.700897</td>\n",
       "      <td>99.700897</td>\n",
       "    </tr>\n",
       "    <tr>\n",
       "      <th>4</th>\n",
       "      <td>1.005</td>\n",
       "      <td>103</td>\n",
       "      <td>103.0</td>\n",
       "      <td>1.000000</td>\n",
       "      <td>99.502488</td>\n",
       "      <td>99.502488</td>\n",
       "    </tr>\n",
       "    <tr>\n",
       "      <th>5</th>\n",
       "      <td>1.010</td>\n",
       "      <td>657</td>\n",
       "      <td>644.0</td>\n",
       "      <td>0.980213</td>\n",
       "      <td>99.009901</td>\n",
       "      <td>97.050801</td>\n",
       "    </tr>\n",
       "    <tr>\n",
       "      <th>6</th>\n",
       "      <td>1.015</td>\n",
       "      <td>2</td>\n",
       "      <td>2.0</td>\n",
       "      <td>1.000000</td>\n",
       "      <td>98.522167</td>\n",
       "      <td>98.522167</td>\n",
       "    </tr>\n",
       "    <tr>\n",
       "      <th>7</th>\n",
       "      <td>1.020</td>\n",
       "      <td>688</td>\n",
       "      <td>657.0</td>\n",
       "      <td>0.954942</td>\n",
       "      <td>98.039216</td>\n",
       "      <td>93.621751</td>\n",
       "    </tr>\n",
       "    <tr>\n",
       "      <th>8</th>\n",
       "      <td>1.030</td>\n",
       "      <td>665</td>\n",
       "      <td>640.0</td>\n",
       "      <td>0.962406</td>\n",
       "      <td>97.087379</td>\n",
       "      <td>93.437477</td>\n",
       "    </tr>\n",
       "    <tr>\n",
       "      <th>9</th>\n",
       "      <td>1.040</td>\n",
       "      <td>783</td>\n",
       "      <td>739.0</td>\n",
       "      <td>0.943806</td>\n",
       "      <td>96.153846</td>\n",
       "      <td>90.750565</td>\n",
       "    </tr>\n",
       "  </tbody>\n",
       "</table>\n",
       "</div>"
      ],
      "text/plain": [
       "   CuotaFavorito  Favorito  GanaFavorito  Porcentaje  Probabilidad   Indicador\n",
       "0          1.000        96          96.0    1.000000    100.000000  100.000000\n",
       "1          1.001         1           1.0    1.000000     99.900100   99.900100\n",
       "2          1.002        60          57.0    0.950000     99.800399   94.810379\n",
       "3          1.003         1           1.0    1.000000     99.700897   99.700897\n",
       "4          1.005       103         103.0    1.000000     99.502488   99.502488\n",
       "5          1.010       657         644.0    0.980213     99.009901   97.050801\n",
       "6          1.015         2           2.0    1.000000     98.522167   98.522167\n",
       "7          1.020       688         657.0    0.954942     98.039216   93.621751\n",
       "8          1.030       665         640.0    0.962406     97.087379   93.437477\n",
       "9          1.040       783         739.0    0.943806     96.153846   90.750565"
      ]
     },
     "execution_count": 41,
     "metadata": {},
     "output_type": "execute_result"
    }
   ],
   "source": [
    "cc.head(10)"
   ]
  },
  {
   "cell_type": "code",
   "execution_count": 37,
   "metadata": {},
   "outputs": [],
   "source": [
    "cc['Probabilidad'] = cc['CuotaFavorito'].apply(prob)"
   ]
  },
  {
   "cell_type": "code",
   "execution_count": 40,
   "metadata": {},
   "outputs": [],
   "source": [
    "cc['Indicador'] = cc['Porcentaje'] * cc['Probabilidad']"
   ]
  },
  {
   "cell_type": "code",
   "execution_count": null,
   "metadata": {},
   "outputs": [],
   "source": [
    "cc['Hucha'] = np.where(sports['GanaFavorito'] == 1, sports['CuotaFavorito']*10-10, -10)"
   ]
  },
  {
   "cell_type": "code",
   "execution_count": 42,
   "metadata": {},
   "outputs": [],
   "source": [
    "dd = cc[['CuotaFavorito','Indicador']]"
   ]
  },
  {
   "cell_type": "code",
   "execution_count": 43,
   "metadata": {},
   "outputs": [
    {
     "data": {
      "text/html": [
       "<div>\n",
       "<style scoped>\n",
       "    .dataframe tbody tr th:only-of-type {\n",
       "        vertical-align: middle;\n",
       "    }\n",
       "\n",
       "    .dataframe tbody tr th {\n",
       "        vertical-align: top;\n",
       "    }\n",
       "\n",
       "    .dataframe thead th {\n",
       "        text-align: right;\n",
       "    }\n",
       "</style>\n",
       "<table border=\"1\" class=\"dataframe\">\n",
       "  <thead>\n",
       "    <tr style=\"text-align: right;\">\n",
       "      <th></th>\n",
       "      <th>CuotaFavorito</th>\n",
       "      <th>Indicador</th>\n",
       "    </tr>\n",
       "  </thead>\n",
       "  <tbody>\n",
       "    <tr>\n",
       "      <th>0</th>\n",
       "      <td>1.000</td>\n",
       "      <td>100.000000</td>\n",
       "    </tr>\n",
       "    <tr>\n",
       "      <th>1</th>\n",
       "      <td>1.001</td>\n",
       "      <td>99.900100</td>\n",
       "    </tr>\n",
       "    <tr>\n",
       "      <th>2</th>\n",
       "      <td>1.002</td>\n",
       "      <td>94.810379</td>\n",
       "    </tr>\n",
       "    <tr>\n",
       "      <th>3</th>\n",
       "      <td>1.003</td>\n",
       "      <td>99.700897</td>\n",
       "    </tr>\n",
       "    <tr>\n",
       "      <th>4</th>\n",
       "      <td>1.005</td>\n",
       "      <td>99.502488</td>\n",
       "    </tr>\n",
       "  </tbody>\n",
       "</table>\n",
       "</div>"
      ],
      "text/plain": [
       "   CuotaFavorito   Indicador\n",
       "0          1.000  100.000000\n",
       "1          1.001   99.900100\n",
       "2          1.002   94.810379\n",
       "3          1.003   99.700897\n",
       "4          1.005   99.502488"
      ]
     },
     "execution_count": 43,
     "metadata": {},
     "output_type": "execute_result"
    }
   ],
   "source": [
    "dd.head()"
   ]
  },
  {
   "cell_type": "code",
   "execution_count": 45,
   "metadata": {},
   "outputs": [],
   "source": [
    "sports = sports.merge(dd, how = 'left')"
   ]
  },
  {
   "cell_type": "code",
   "execution_count": 95,
   "metadata": {
    "scrolled": true
   },
   "outputs": [
    {
     "data": {
      "text/html": [
       "<div>\n",
       "<style scoped>\n",
       "    .dataframe tbody tr th:only-of-type {\n",
       "        vertical-align: middle;\n",
       "    }\n",
       "\n",
       "    .dataframe tbody tr th {\n",
       "        vertical-align: top;\n",
       "    }\n",
       "\n",
       "    .dataframe thead th {\n",
       "        text-align: right;\n",
       "    }\n",
       "</style>\n",
       "<table border=\"1\" class=\"dataframe\">\n",
       "  <thead>\n",
       "    <tr style=\"text-align: right;\">\n",
       "      <th></th>\n",
       "      <th>CuotaFavorito</th>\n",
       "      <th>Date</th>\n",
       "      <th>Favorito</th>\n",
       "      <th>GanaFavorito</th>\n",
       "      <th>Sport</th>\n",
       "      <th>Tournament</th>\n",
       "      <th>Probabilidad</th>\n",
       "      <th>Hucha100</th>\n",
       "      <th>HuchaB</th>\n",
       "      <th>Indicador</th>\n",
       "      <th>HuchaC</th>\n",
       "    </tr>\n",
       "  </thead>\n",
       "  <tbody>\n",
       "    <tr>\n",
       "      <th>0</th>\n",
       "      <td>2.20</td>\n",
       "      <td>2000-08-19</td>\n",
       "      <td>H</td>\n",
       "      <td>1</td>\n",
       "      <td>Football</td>\n",
       "      <td>E0</td>\n",
       "      <td>45.454545</td>\n",
       "      <td>12.0</td>\n",
       "      <td>5.454545</td>\n",
       "      <td>19.243025</td>\n",
       "      <td>4.233465</td>\n",
       "    </tr>\n",
       "    <tr>\n",
       "      <th>1</th>\n",
       "      <td>1.60</td>\n",
       "      <td>2000-08-19</td>\n",
       "      <td>H</td>\n",
       "      <td>1</td>\n",
       "      <td>Football</td>\n",
       "      <td>E0</td>\n",
       "      <td>62.500000</td>\n",
       "      <td>6.0</td>\n",
       "      <td>3.750000</td>\n",
       "      <td>37.083788</td>\n",
       "      <td>5.933406</td>\n",
       "    </tr>\n",
       "    <tr>\n",
       "      <th>2</th>\n",
       "      <td>2.20</td>\n",
       "      <td>2000-08-19</td>\n",
       "      <td>H</td>\n",
       "      <td>0</td>\n",
       "      <td>Football</td>\n",
       "      <td>E0</td>\n",
       "      <td>45.454545</td>\n",
       "      <td>-10.0</td>\n",
       "      <td>-4.545455</td>\n",
       "      <td>19.243025</td>\n",
       "      <td>-1.924302</td>\n",
       "    </tr>\n",
       "    <tr>\n",
       "      <th>3</th>\n",
       "      <td>1.80</td>\n",
       "      <td>2000-08-19</td>\n",
       "      <td>H</td>\n",
       "      <td>0</td>\n",
       "      <td>Football</td>\n",
       "      <td>E0</td>\n",
       "      <td>55.555556</td>\n",
       "      <td>-10.0</td>\n",
       "      <td>-5.555556</td>\n",
       "      <td>28.955330</td>\n",
       "      <td>-2.895533</td>\n",
       "    </tr>\n",
       "    <tr>\n",
       "      <th>4</th>\n",
       "      <td>1.55</td>\n",
       "      <td>2000-08-19</td>\n",
       "      <td>H</td>\n",
       "      <td>1</td>\n",
       "      <td>Football</td>\n",
       "      <td>E0</td>\n",
       "      <td>64.516129</td>\n",
       "      <td>5.5</td>\n",
       "      <td>3.548387</td>\n",
       "      <td>38.679065</td>\n",
       "      <td>5.995255</td>\n",
       "    </tr>\n",
       "  </tbody>\n",
       "</table>\n",
       "</div>"
      ],
      "text/plain": [
       "   CuotaFavorito       Date Favorito  GanaFavorito     Sport Tournament  \\\n",
       "0           2.20 2000-08-19        H             1  Football         E0   \n",
       "1           1.60 2000-08-19        H             1  Football         E0   \n",
       "2           2.20 2000-08-19        H             0  Football         E0   \n",
       "3           1.80 2000-08-19        H             0  Football         E0   \n",
       "4           1.55 2000-08-19        H             1  Football         E0   \n",
       "\n",
       "   Probabilidad  Hucha100    HuchaB  Indicador    HuchaC  \n",
       "0     45.454545      12.0  5.454545  19.243025  4.233465  \n",
       "1     62.500000       6.0  3.750000  37.083788  5.933406  \n",
       "2     45.454545     -10.0 -4.545455  19.243025 -1.924302  \n",
       "3     55.555556     -10.0 -5.555556  28.955330 -2.895533  \n",
       "4     64.516129       5.5  3.548387  38.679065  5.995255  "
      ]
     },
     "execution_count": 95,
     "metadata": {},
     "output_type": "execute_result"
    }
   ],
   "source": [
    "sports.head()"
   ]
  },
  {
   "cell_type": "code",
   "execution_count": 63,
   "metadata": {},
   "outputs": [],
   "source": [
    "sports['HuchaC'] = np.where(sports['GanaFavorito'] == 1, sports['CuotaFavorito']*sports['Indicador']/10, -sports['Indicador']/10)"
   ]
  },
  {
   "cell_type": "code",
   "execution_count": 64,
   "metadata": {},
   "outputs": [
    {
     "name": "stdout",
     "output_type": "stream",
     "text": [
      "-163289.0\n",
      "-92195.14371700516\n",
      "521926.3007665614\n"
     ]
    }
   ],
   "source": [
    "print(sports['Hucha100'].sum())\n",
    "print(sports['HuchaB'].sum())\n",
    "print(sports['HuchaC'].sum())"
   ]
  },
  {
   "cell_type": "code",
   "execution_count": 67,
   "metadata": {},
   "outputs": [],
   "source": [
    "ee = sports.groupby('CuotaFavorito')['HuchaC'].sum()"
   ]
  },
  {
   "cell_type": "code",
   "execution_count": 84,
   "metadata": {},
   "outputs": [],
   "source": [
    "spain = sports[sports['Tournament'] == 'SP1']"
   ]
  },
  {
   "cell_type": "code",
   "execution_count": 86,
   "metadata": {},
   "outputs": [
    {
     "data": {
      "text/plain": [
       "11938.415176555282"
      ]
     },
     "execution_count": 86,
     "metadata": {},
     "output_type": "execute_result"
    }
   ],
   "source": [
    "spain['HuchaC'].sum()"
   ]
  },
  {
   "cell_type": "code",
   "execution_count": 87,
   "metadata": {},
   "outputs": [
    {
     "data": {
      "text/plain": [
       "-3516.6"
      ]
     },
     "execution_count": 87,
     "metadata": {},
     "output_type": "execute_result"
    }
   ],
   "source": [
    "spain['Hucha100'].sum()"
   ]
  },
  {
   "cell_type": "code",
   "execution_count": 88,
   "metadata": {},
   "outputs": [
    {
     "data": {
      "text/plain": [
       "-1804.004227164421"
      ]
     },
     "execution_count": 88,
     "metadata": {},
     "output_type": "execute_result"
    }
   ],
   "source": [
    "spain['HuchaB'].sum()"
   ]
  }
 ],
 "metadata": {
  "kernelspec": {
   "display_name": "Python 3",
   "language": "python",
   "name": "python3"
  },
  "language_info": {
   "codemirror_mode": {
    "name": "ipython",
    "version": 3
   },
   "file_extension": ".py",
   "mimetype": "text/x-python",
   "name": "python",
   "nbconvert_exporter": "python",
   "pygments_lexer": "ipython3",
   "version": "3.6.4"
  }
 },
 "nbformat": 4,
 "nbformat_minor": 2
}
