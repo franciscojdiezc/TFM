{
 "cells": [
  {
   "cell_type": "code",
   "execution_count": 1,
   "metadata": {},
   "outputs": [],
   "source": [
    "#Librerias\n",
    "import pandas as pd\n",
    "import numpy as np\n",
    "import os"
   ]
  },
  {
   "cell_type": "code",
   "execution_count": 2,
   "metadata": {},
   "outputs": [],
   "source": [
    "path = 'Data/'\n",
    "sports = pd.read_excel(path+'sports.xlsx')"
   ]
  },
  {
   "cell_type": "code",
   "execution_count": 3,
   "metadata": {},
   "outputs": [
    {
     "data": {
      "text/html": [
       "<div>\n",
       "<style scoped>\n",
       "    .dataframe tbody tr th:only-of-type {\n",
       "        vertical-align: middle;\n",
       "    }\n",
       "\n",
       "    .dataframe tbody tr th {\n",
       "        vertical-align: top;\n",
       "    }\n",
       "\n",
       "    .dataframe thead th {\n",
       "        text-align: right;\n",
       "    }\n",
       "</style>\n",
       "<table border=\"1\" class=\"dataframe\">\n",
       "  <thead>\n",
       "    <tr style=\"text-align: right;\">\n",
       "      <th></th>\n",
       "      <th>CuotaFavorito</th>\n",
       "      <th>Date</th>\n",
       "      <th>Favorito</th>\n",
       "      <th>GanaFavorito</th>\n",
       "      <th>Sport</th>\n",
       "      <th>Tournament</th>\n",
       "    </tr>\n",
       "  </thead>\n",
       "  <tbody>\n",
       "    <tr>\n",
       "      <th>0</th>\n",
       "      <td>2.20</td>\n",
       "      <td>2000-08-19</td>\n",
       "      <td>H</td>\n",
       "      <td>1</td>\n",
       "      <td>Football</td>\n",
       "      <td>E0</td>\n",
       "    </tr>\n",
       "    <tr>\n",
       "      <th>1</th>\n",
       "      <td>1.60</td>\n",
       "      <td>2000-08-19</td>\n",
       "      <td>H</td>\n",
       "      <td>1</td>\n",
       "      <td>Football</td>\n",
       "      <td>E0</td>\n",
       "    </tr>\n",
       "    <tr>\n",
       "      <th>2</th>\n",
       "      <td>2.20</td>\n",
       "      <td>2000-08-19</td>\n",
       "      <td>H</td>\n",
       "      <td>0</td>\n",
       "      <td>Football</td>\n",
       "      <td>E0</td>\n",
       "    </tr>\n",
       "    <tr>\n",
       "      <th>3</th>\n",
       "      <td>1.80</td>\n",
       "      <td>2000-08-19</td>\n",
       "      <td>H</td>\n",
       "      <td>0</td>\n",
       "      <td>Football</td>\n",
       "      <td>E0</td>\n",
       "    </tr>\n",
       "    <tr>\n",
       "      <th>4</th>\n",
       "      <td>1.55</td>\n",
       "      <td>2000-08-19</td>\n",
       "      <td>H</td>\n",
       "      <td>1</td>\n",
       "      <td>Football</td>\n",
       "      <td>E0</td>\n",
       "    </tr>\n",
       "  </tbody>\n",
       "</table>\n",
       "</div>"
      ],
      "text/plain": [
       "   CuotaFavorito       Date Favorito  GanaFavorito     Sport Tournament\n",
       "0           2.20 2000-08-19        H             1  Football         E0\n",
       "1           1.60 2000-08-19        H             1  Football         E0\n",
       "2           2.20 2000-08-19        H             0  Football         E0\n",
       "3           1.80 2000-08-19        H             0  Football         E0\n",
       "4           1.55 2000-08-19        H             1  Football         E0"
      ]
     },
     "execution_count": 3,
     "metadata": {},
     "output_type": "execute_result"
    }
   ],
   "source": [
    "sports.head()"
   ]
  },
  {
   "cell_type": "code",
   "execution_count": 4,
   "metadata": {},
   "outputs": [],
   "source": [
    "#Creamos una función que convierta la cuota en una probabilidad, para así hacer un análisis más sencillo.\n",
    "#Esta probabilidad será la que tiene de ganar el favorito\n",
    "\n",
    "def prob(a):\n",
    "    return (1/a)*100"
   ]
  },
  {
   "cell_type": "code",
   "execution_count": 5,
   "metadata": {},
   "outputs": [],
   "source": [
    "sports['Probabilidad'] = sports['CuotaFavorito'].apply(prob)"
   ]
  },
  {
   "cell_type": "code",
   "execution_count": 6,
   "metadata": {},
   "outputs": [
    {
     "data": {
      "text/html": [
       "<div>\n",
       "<style scoped>\n",
       "    .dataframe tbody tr th:only-of-type {\n",
       "        vertical-align: middle;\n",
       "    }\n",
       "\n",
       "    .dataframe tbody tr th {\n",
       "        vertical-align: top;\n",
       "    }\n",
       "\n",
       "    .dataframe thead th {\n",
       "        text-align: right;\n",
       "    }\n",
       "</style>\n",
       "<table border=\"1\" class=\"dataframe\">\n",
       "  <thead>\n",
       "    <tr style=\"text-align: right;\">\n",
       "      <th></th>\n",
       "      <th>CuotaFavorito</th>\n",
       "      <th>Date</th>\n",
       "      <th>Favorito</th>\n",
       "      <th>GanaFavorito</th>\n",
       "      <th>Sport</th>\n",
       "      <th>Tournament</th>\n",
       "      <th>Probabilidad</th>\n",
       "    </tr>\n",
       "  </thead>\n",
       "  <tbody>\n",
       "    <tr>\n",
       "      <th>0</th>\n",
       "      <td>2.20</td>\n",
       "      <td>2000-08-19</td>\n",
       "      <td>H</td>\n",
       "      <td>1</td>\n",
       "      <td>Football</td>\n",
       "      <td>E0</td>\n",
       "      <td>45.454545</td>\n",
       "    </tr>\n",
       "    <tr>\n",
       "      <th>1</th>\n",
       "      <td>1.60</td>\n",
       "      <td>2000-08-19</td>\n",
       "      <td>H</td>\n",
       "      <td>1</td>\n",
       "      <td>Football</td>\n",
       "      <td>E0</td>\n",
       "      <td>62.500000</td>\n",
       "    </tr>\n",
       "    <tr>\n",
       "      <th>2</th>\n",
       "      <td>2.20</td>\n",
       "      <td>2000-08-19</td>\n",
       "      <td>H</td>\n",
       "      <td>0</td>\n",
       "      <td>Football</td>\n",
       "      <td>E0</td>\n",
       "      <td>45.454545</td>\n",
       "    </tr>\n",
       "    <tr>\n",
       "      <th>3</th>\n",
       "      <td>1.80</td>\n",
       "      <td>2000-08-19</td>\n",
       "      <td>H</td>\n",
       "      <td>0</td>\n",
       "      <td>Football</td>\n",
       "      <td>E0</td>\n",
       "      <td>55.555556</td>\n",
       "    </tr>\n",
       "    <tr>\n",
       "      <th>4</th>\n",
       "      <td>1.55</td>\n",
       "      <td>2000-08-19</td>\n",
       "      <td>H</td>\n",
       "      <td>1</td>\n",
       "      <td>Football</td>\n",
       "      <td>E0</td>\n",
       "      <td>64.516129</td>\n",
       "    </tr>\n",
       "  </tbody>\n",
       "</table>\n",
       "</div>"
      ],
      "text/plain": [
       "   CuotaFavorito       Date Favorito  GanaFavorito     Sport Tournament  \\\n",
       "0           2.20 2000-08-19        H             1  Football         E0   \n",
       "1           1.60 2000-08-19        H             1  Football         E0   \n",
       "2           2.20 2000-08-19        H             0  Football         E0   \n",
       "3           1.80 2000-08-19        H             0  Football         E0   \n",
       "4           1.55 2000-08-19        H             1  Football         E0   \n",
       "\n",
       "   Probabilidad  \n",
       "0     45.454545  \n",
       "1     62.500000  \n",
       "2     45.454545  \n",
       "3     55.555556  \n",
       "4     64.516129  "
      ]
     },
     "execution_count": 6,
     "metadata": {},
     "output_type": "execute_result"
    }
   ],
   "source": [
    "sports.head()"
   ]
  },
  {
   "cell_type": "code",
   "execution_count": 7,
   "metadata": {},
   "outputs": [
    {
     "data": {
      "text/plain": [
       "CuotaFavorito           float64\n",
       "Date             datetime64[ns]\n",
       "Favorito                 object\n",
       "GanaFavorito              int64\n",
       "Sport                    object\n",
       "Tournament               object\n",
       "Probabilidad            float64\n",
       "dtype: object"
      ]
     },
     "execution_count": 7,
     "metadata": {},
     "output_type": "execute_result"
    }
   ],
   "source": [
    "sports.dtypes"
   ]
  },
  {
   "cell_type": "markdown",
   "metadata": {},
   "source": [
    "## El primer análisis que haremos será apostar 10€ siempre al favorito."
   ]
  },
  {
   "cell_type": "code",
   "execution_count": 8,
   "metadata": {},
   "outputs": [],
   "source": [
    "sports['Hucha10'] = np.where(sports['GanaFavorito'] == 1, sports['CuotaFavorito']*10-10, -10)"
   ]
  },
  {
   "cell_type": "code",
   "execution_count": 9,
   "metadata": {},
   "outputs": [
    {
     "data": {
      "text/html": [
       "<div>\n",
       "<style scoped>\n",
       "    .dataframe tbody tr th:only-of-type {\n",
       "        vertical-align: middle;\n",
       "    }\n",
       "\n",
       "    .dataframe tbody tr th {\n",
       "        vertical-align: top;\n",
       "    }\n",
       "\n",
       "    .dataframe thead th {\n",
       "        text-align: right;\n",
       "    }\n",
       "</style>\n",
       "<table border=\"1\" class=\"dataframe\">\n",
       "  <thead>\n",
       "    <tr style=\"text-align: right;\">\n",
       "      <th></th>\n",
       "      <th>CuotaFavorito</th>\n",
       "      <th>Date</th>\n",
       "      <th>Favorito</th>\n",
       "      <th>GanaFavorito</th>\n",
       "      <th>Sport</th>\n",
       "      <th>Tournament</th>\n",
       "      <th>Probabilidad</th>\n",
       "      <th>Hucha10</th>\n",
       "    </tr>\n",
       "  </thead>\n",
       "  <tbody>\n",
       "    <tr>\n",
       "      <th>0</th>\n",
       "      <td>2.20</td>\n",
       "      <td>2000-08-19</td>\n",
       "      <td>H</td>\n",
       "      <td>1</td>\n",
       "      <td>Football</td>\n",
       "      <td>E0</td>\n",
       "      <td>45.454545</td>\n",
       "      <td>12.0</td>\n",
       "    </tr>\n",
       "    <tr>\n",
       "      <th>1</th>\n",
       "      <td>1.60</td>\n",
       "      <td>2000-08-19</td>\n",
       "      <td>H</td>\n",
       "      <td>1</td>\n",
       "      <td>Football</td>\n",
       "      <td>E0</td>\n",
       "      <td>62.500000</td>\n",
       "      <td>6.0</td>\n",
       "    </tr>\n",
       "    <tr>\n",
       "      <th>2</th>\n",
       "      <td>2.20</td>\n",
       "      <td>2000-08-19</td>\n",
       "      <td>H</td>\n",
       "      <td>0</td>\n",
       "      <td>Football</td>\n",
       "      <td>E0</td>\n",
       "      <td>45.454545</td>\n",
       "      <td>-10.0</td>\n",
       "    </tr>\n",
       "    <tr>\n",
       "      <th>3</th>\n",
       "      <td>1.80</td>\n",
       "      <td>2000-08-19</td>\n",
       "      <td>H</td>\n",
       "      <td>0</td>\n",
       "      <td>Football</td>\n",
       "      <td>E0</td>\n",
       "      <td>55.555556</td>\n",
       "      <td>-10.0</td>\n",
       "    </tr>\n",
       "    <tr>\n",
       "      <th>4</th>\n",
       "      <td>1.55</td>\n",
       "      <td>2000-08-19</td>\n",
       "      <td>H</td>\n",
       "      <td>1</td>\n",
       "      <td>Football</td>\n",
       "      <td>E0</td>\n",
       "      <td>64.516129</td>\n",
       "      <td>5.5</td>\n",
       "    </tr>\n",
       "  </tbody>\n",
       "</table>\n",
       "</div>"
      ],
      "text/plain": [
       "   CuotaFavorito       Date Favorito  GanaFavorito     Sport Tournament  \\\n",
       "0           2.20 2000-08-19        H             1  Football         E0   \n",
       "1           1.60 2000-08-19        H             1  Football         E0   \n",
       "2           2.20 2000-08-19        H             0  Football         E0   \n",
       "3           1.80 2000-08-19        H             0  Football         E0   \n",
       "4           1.55 2000-08-19        H             1  Football         E0   \n",
       "\n",
       "   Probabilidad  Hucha10  \n",
       "0     45.454545     12.0  \n",
       "1     62.500000      6.0  \n",
       "2     45.454545    -10.0  \n",
       "3     55.555556    -10.0  \n",
       "4     64.516129      5.5  "
      ]
     },
     "execution_count": 9,
     "metadata": {},
     "output_type": "execute_result"
    }
   ],
   "source": [
    "sports.head()"
   ]
  },
  {
   "cell_type": "code",
   "execution_count": 10,
   "metadata": {},
   "outputs": [
    {
     "data": {
      "text/plain": [
       "-163289.0"
      ]
     },
     "execution_count": 10,
     "metadata": {},
     "output_type": "execute_result"
    }
   ],
   "source": [
    "sports['Hucha10'].sum()"
   ]
  },
  {
   "cell_type": "code",
   "execution_count": 11,
   "metadata": {},
   "outputs": [],
   "source": [
    "#La segunda Hucha la calcularemos multiplicando su cuota por la probabilidad de ganar\n",
    "sports['HuchaB'] = np.where(sports['GanaFavorito'] == 1, (sports['CuotaFavorito']*sports['Probabilidad']/10)-(sports['Probabilidad']/10), -sports['Probabilidad']/10)"
   ]
  },
  {
   "cell_type": "code",
   "execution_count": 12,
   "metadata": {},
   "outputs": [
    {
     "data": {
      "text/plain": [
       "-92195.14371700516"
      ]
     },
     "execution_count": 12,
     "metadata": {},
     "output_type": "execute_result"
    }
   ],
   "source": [
    "sports['HuchaB'].sum()"
   ]
  },
  {
   "cell_type": "markdown",
   "metadata": {},
   "source": [
    "La hucha sale negativa, entonces tendremos que buscar un indicador que nos diga cuanto apostar a cada cuota."
   ]
  },
  {
   "cell_type": "code",
   "execution_count": 13,
   "metadata": {},
   "outputs": [],
   "source": [
    "#Cogemos solamente los favoritos que ganan"
   ]
  },
  {
   "cell_type": "code",
   "execution_count": 14,
   "metadata": {},
   "outputs": [
    {
     "data": {
      "text/html": [
       "<div>\n",
       "<style scoped>\n",
       "    .dataframe tbody tr th:only-of-type {\n",
       "        vertical-align: middle;\n",
       "    }\n",
       "\n",
       "    .dataframe tbody tr th {\n",
       "        vertical-align: top;\n",
       "    }\n",
       "\n",
       "    .dataframe thead th {\n",
       "        text-align: right;\n",
       "    }\n",
       "</style>\n",
       "<table border=\"1\" class=\"dataframe\">\n",
       "  <thead>\n",
       "    <tr style=\"text-align: right;\">\n",
       "      <th></th>\n",
       "      <th>CuotaFavorito</th>\n",
       "      <th>Date</th>\n",
       "      <th>Favorito</th>\n",
       "      <th>GanaFavorito</th>\n",
       "      <th>Sport</th>\n",
       "      <th>Tournament</th>\n",
       "      <th>Probabilidad</th>\n",
       "      <th>Hucha10</th>\n",
       "      <th>HuchaB</th>\n",
       "    </tr>\n",
       "  </thead>\n",
       "  <tbody>\n",
       "    <tr>\n",
       "      <th>0</th>\n",
       "      <td>2.20</td>\n",
       "      <td>2000-08-19</td>\n",
       "      <td>H</td>\n",
       "      <td>1</td>\n",
       "      <td>Football</td>\n",
       "      <td>E0</td>\n",
       "      <td>45.454545</td>\n",
       "      <td>12.0</td>\n",
       "      <td>5.454545</td>\n",
       "    </tr>\n",
       "    <tr>\n",
       "      <th>1</th>\n",
       "      <td>1.60</td>\n",
       "      <td>2000-08-19</td>\n",
       "      <td>H</td>\n",
       "      <td>1</td>\n",
       "      <td>Football</td>\n",
       "      <td>E0</td>\n",
       "      <td>62.500000</td>\n",
       "      <td>6.0</td>\n",
       "      <td>3.750000</td>\n",
       "    </tr>\n",
       "    <tr>\n",
       "      <th>4</th>\n",
       "      <td>1.55</td>\n",
       "      <td>2000-08-19</td>\n",
       "      <td>H</td>\n",
       "      <td>1</td>\n",
       "      <td>Football</td>\n",
       "      <td>E0</td>\n",
       "      <td>64.516129</td>\n",
       "      <td>5.5</td>\n",
       "      <td>3.548387</td>\n",
       "    </tr>\n",
       "    <tr>\n",
       "      <th>6</th>\n",
       "      <td>1.25</td>\n",
       "      <td>2000-08-19</td>\n",
       "      <td>H</td>\n",
       "      <td>1</td>\n",
       "      <td>Football</td>\n",
       "      <td>E0</td>\n",
       "      <td>80.000000</td>\n",
       "      <td>2.5</td>\n",
       "      <td>2.000000</td>\n",
       "    </tr>\n",
       "    <tr>\n",
       "      <th>8</th>\n",
       "      <td>1.50</td>\n",
       "      <td>2000-08-19</td>\n",
       "      <td>H</td>\n",
       "      <td>1</td>\n",
       "      <td>Football</td>\n",
       "      <td>E0</td>\n",
       "      <td>66.666667</td>\n",
       "      <td>5.0</td>\n",
       "      <td>3.333333</td>\n",
       "    </tr>\n",
       "  </tbody>\n",
       "</table>\n",
       "</div>"
      ],
      "text/plain": [
       "   CuotaFavorito       Date Favorito  GanaFavorito     Sport Tournament  \\\n",
       "0           2.20 2000-08-19        H             1  Football         E0   \n",
       "1           1.60 2000-08-19        H             1  Football         E0   \n",
       "4           1.55 2000-08-19        H             1  Football         E0   \n",
       "6           1.25 2000-08-19        H             1  Football         E0   \n",
       "8           1.50 2000-08-19        H             1  Football         E0   \n",
       "\n",
       "   Probabilidad  Hucha10    HuchaB  \n",
       "0     45.454545     12.0  5.454545  \n",
       "1     62.500000      6.0  3.750000  \n",
       "4     64.516129      5.5  3.548387  \n",
       "6     80.000000      2.5  2.000000  \n",
       "8     66.666667      5.0  3.333333  "
      ]
     },
     "execution_count": 14,
     "metadata": {},
     "output_type": "execute_result"
    }
   ],
   "source": [
    "favoritos = sports[sports['GanaFavorito'] == 1]\n",
    "favoritos.head()"
   ]
  },
  {
   "cell_type": "code",
   "execution_count": 15,
   "metadata": {},
   "outputs": [
    {
     "data": {
      "text/html": [
       "<div>\n",
       "<style scoped>\n",
       "    .dataframe tbody tr th:only-of-type {\n",
       "        vertical-align: middle;\n",
       "    }\n",
       "\n",
       "    .dataframe tbody tr th {\n",
       "        vertical-align: top;\n",
       "    }\n",
       "\n",
       "    .dataframe thead th {\n",
       "        text-align: right;\n",
       "    }\n",
       "</style>\n",
       "<table border=\"1\" class=\"dataframe\">\n",
       "  <thead>\n",
       "    <tr style=\"text-align: right;\">\n",
       "      <th></th>\n",
       "      <th>CuotaFavorito</th>\n",
       "      <th>GanaFavorito</th>\n",
       "    </tr>\n",
       "  </thead>\n",
       "  <tbody>\n",
       "    <tr>\n",
       "      <th>0</th>\n",
       "      <td>1.000</td>\n",
       "      <td>96</td>\n",
       "    </tr>\n",
       "    <tr>\n",
       "      <th>1</th>\n",
       "      <td>1.001</td>\n",
       "      <td>1</td>\n",
       "    </tr>\n",
       "    <tr>\n",
       "      <th>2</th>\n",
       "      <td>1.002</td>\n",
       "      <td>57</td>\n",
       "    </tr>\n",
       "    <tr>\n",
       "      <th>3</th>\n",
       "      <td>1.003</td>\n",
       "      <td>1</td>\n",
       "    </tr>\n",
       "    <tr>\n",
       "      <th>4</th>\n",
       "      <td>1.005</td>\n",
       "      <td>103</td>\n",
       "    </tr>\n",
       "  </tbody>\n",
       "</table>\n",
       "</div>"
      ],
      "text/plain": [
       "   CuotaFavorito  GanaFavorito\n",
       "0          1.000            96\n",
       "1          1.001             1\n",
       "2          1.002            57\n",
       "3          1.003             1\n",
       "4          1.005           103"
      ]
     },
     "execution_count": 15,
     "metadata": {},
     "output_type": "execute_result"
    }
   ],
   "source": [
    "#Agrupado por cuotas\n",
    "\n",
    "favoritoAgrupados = favoritos.groupby('CuotaFavorito',as_index=False)['GanaFavorito'].sum()\n",
    "favoritoAgrupados.head()"
   ]
  },
  {
   "cell_type": "code",
   "execution_count": 16,
   "metadata": {},
   "outputs": [
    {
     "data": {
      "text/html": [
       "<div>\n",
       "<style scoped>\n",
       "    .dataframe tbody tr th:only-of-type {\n",
       "        vertical-align: middle;\n",
       "    }\n",
       "\n",
       "    .dataframe tbody tr th {\n",
       "        vertical-align: top;\n",
       "    }\n",
       "\n",
       "    .dataframe thead th {\n",
       "        text-align: right;\n",
       "    }\n",
       "</style>\n",
       "<table border=\"1\" class=\"dataframe\">\n",
       "  <thead>\n",
       "    <tr style=\"text-align: right;\">\n",
       "      <th></th>\n",
       "      <th>CuotaFavorito</th>\n",
       "      <th>Favorito</th>\n",
       "    </tr>\n",
       "  </thead>\n",
       "  <tbody>\n",
       "    <tr>\n",
       "      <th>0</th>\n",
       "      <td>1.000</td>\n",
       "      <td>96</td>\n",
       "    </tr>\n",
       "    <tr>\n",
       "      <th>1</th>\n",
       "      <td>1.001</td>\n",
       "      <td>1</td>\n",
       "    </tr>\n",
       "    <tr>\n",
       "      <th>2</th>\n",
       "      <td>1.002</td>\n",
       "      <td>60</td>\n",
       "    </tr>\n",
       "    <tr>\n",
       "      <th>3</th>\n",
       "      <td>1.003</td>\n",
       "      <td>1</td>\n",
       "    </tr>\n",
       "    <tr>\n",
       "      <th>4</th>\n",
       "      <td>1.005</td>\n",
       "      <td>103</td>\n",
       "    </tr>\n",
       "  </tbody>\n",
       "</table>\n",
       "</div>"
      ],
      "text/plain": [
       "   CuotaFavorito  Favorito\n",
       "0          1.000        96\n",
       "1          1.001         1\n",
       "2          1.002        60\n",
       "3          1.003         1\n",
       "4          1.005       103"
      ]
     },
     "execution_count": 16,
     "metadata": {},
     "output_type": "execute_result"
    }
   ],
   "source": [
    "sportsTotal = sports.groupby('CuotaFavorito',as_index=False)['Favorito'].count()\n",
    "sportsTotal.head()"
   ]
  },
  {
   "cell_type": "code",
   "execution_count": 17,
   "metadata": {
    "scrolled": true
   },
   "outputs": [
    {
     "data": {
      "text/html": [
       "<div>\n",
       "<style scoped>\n",
       "    .dataframe tbody tr th:only-of-type {\n",
       "        vertical-align: middle;\n",
       "    }\n",
       "\n",
       "    .dataframe tbody tr th {\n",
       "        vertical-align: top;\n",
       "    }\n",
       "\n",
       "    .dataframe thead th {\n",
       "        text-align: right;\n",
       "    }\n",
       "</style>\n",
       "<table border=\"1\" class=\"dataframe\">\n",
       "  <thead>\n",
       "    <tr style=\"text-align: right;\">\n",
       "      <th></th>\n",
       "      <th>CuotaFavorito</th>\n",
       "      <th>Indicador</th>\n",
       "    </tr>\n",
       "  </thead>\n",
       "  <tbody>\n",
       "    <tr>\n",
       "      <th>0</th>\n",
       "      <td>1.000</td>\n",
       "      <td>100.000000</td>\n",
       "    </tr>\n",
       "    <tr>\n",
       "      <th>1</th>\n",
       "      <td>1.001</td>\n",
       "      <td>99.900100</td>\n",
       "    </tr>\n",
       "    <tr>\n",
       "      <th>2</th>\n",
       "      <td>1.002</td>\n",
       "      <td>94.810379</td>\n",
       "    </tr>\n",
       "    <tr>\n",
       "      <th>3</th>\n",
       "      <td>1.003</td>\n",
       "      <td>99.700897</td>\n",
       "    </tr>\n",
       "    <tr>\n",
       "      <th>4</th>\n",
       "      <td>1.005</td>\n",
       "      <td>99.502488</td>\n",
       "    </tr>\n",
       "  </tbody>\n",
       "</table>\n",
       "</div>"
      ],
      "text/plain": [
       "   CuotaFavorito   Indicador\n",
       "0          1.000  100.000000\n",
       "1          1.001   99.900100\n",
       "2          1.002   94.810379\n",
       "3          1.003   99.700897\n",
       "4          1.005   99.502488"
      ]
     },
     "execution_count": 17,
     "metadata": {},
     "output_type": "execute_result"
    }
   ],
   "source": [
    "#Juntamos las tablas para poder obtener el porcentaje de favoritos que ganan teniendo una cuota concreta\n",
    "sportsTotalFavoritos = favoritoAgrupados.merge(sportsTotal, how='left')\n",
    "sportsTotalFavoritos['Porcentaje'] = sportsTotalFavoritos['GanaFavorito']/sportsTotalFavoritos['Favorito']\n",
    "sportsTotalFavoritos['Probabilidad'] = sportsTotalFavoritos['CuotaFavorito'].apply(prob)\n",
    "sportsTotalFavoritos['Indicador'] = sportsTotalFavoritos['Porcentaje'] * sportsTotalFavoritos['Probabilidad']\n",
    "sportsTotalFavoritos = sportsTotalFavoritos[['CuotaFavorito','Indicador']]\n",
    "sportsTotalFavoritos.head()"
   ]
  },
  {
   "cell_type": "code",
   "execution_count": 18,
   "metadata": {},
   "outputs": [],
   "source": [
    "sports = sports.merge(sportsTotalFavoritos, how = 'left')"
   ]
  },
  {
   "cell_type": "code",
   "execution_count": 19,
   "metadata": {
    "scrolled": true
   },
   "outputs": [
    {
     "data": {
      "text/html": [
       "<div>\n",
       "<style scoped>\n",
       "    .dataframe tbody tr th:only-of-type {\n",
       "        vertical-align: middle;\n",
       "    }\n",
       "\n",
       "    .dataframe tbody tr th {\n",
       "        vertical-align: top;\n",
       "    }\n",
       "\n",
       "    .dataframe thead th {\n",
       "        text-align: right;\n",
       "    }\n",
       "</style>\n",
       "<table border=\"1\" class=\"dataframe\">\n",
       "  <thead>\n",
       "    <tr style=\"text-align: right;\">\n",
       "      <th></th>\n",
       "      <th>CuotaFavorito</th>\n",
       "      <th>Date</th>\n",
       "      <th>Favorito</th>\n",
       "      <th>GanaFavorito</th>\n",
       "      <th>Sport</th>\n",
       "      <th>Tournament</th>\n",
       "      <th>Probabilidad</th>\n",
       "      <th>Hucha10</th>\n",
       "      <th>HuchaB</th>\n",
       "      <th>Indicador</th>\n",
       "    </tr>\n",
       "  </thead>\n",
       "  <tbody>\n",
       "    <tr>\n",
       "      <th>0</th>\n",
       "      <td>2.20</td>\n",
       "      <td>2000-08-19</td>\n",
       "      <td>H</td>\n",
       "      <td>1</td>\n",
       "      <td>Football</td>\n",
       "      <td>E0</td>\n",
       "      <td>45.454545</td>\n",
       "      <td>12.0</td>\n",
       "      <td>5.454545</td>\n",
       "      <td>19.243025</td>\n",
       "    </tr>\n",
       "    <tr>\n",
       "      <th>1</th>\n",
       "      <td>1.60</td>\n",
       "      <td>2000-08-19</td>\n",
       "      <td>H</td>\n",
       "      <td>1</td>\n",
       "      <td>Football</td>\n",
       "      <td>E0</td>\n",
       "      <td>62.500000</td>\n",
       "      <td>6.0</td>\n",
       "      <td>3.750000</td>\n",
       "      <td>37.083788</td>\n",
       "    </tr>\n",
       "    <tr>\n",
       "      <th>2</th>\n",
       "      <td>2.20</td>\n",
       "      <td>2000-08-19</td>\n",
       "      <td>H</td>\n",
       "      <td>0</td>\n",
       "      <td>Football</td>\n",
       "      <td>E0</td>\n",
       "      <td>45.454545</td>\n",
       "      <td>-10.0</td>\n",
       "      <td>-4.545455</td>\n",
       "      <td>19.243025</td>\n",
       "    </tr>\n",
       "    <tr>\n",
       "      <th>3</th>\n",
       "      <td>1.80</td>\n",
       "      <td>2000-08-19</td>\n",
       "      <td>H</td>\n",
       "      <td>0</td>\n",
       "      <td>Football</td>\n",
       "      <td>E0</td>\n",
       "      <td>55.555556</td>\n",
       "      <td>-10.0</td>\n",
       "      <td>-5.555556</td>\n",
       "      <td>28.955330</td>\n",
       "    </tr>\n",
       "    <tr>\n",
       "      <th>4</th>\n",
       "      <td>1.55</td>\n",
       "      <td>2000-08-19</td>\n",
       "      <td>H</td>\n",
       "      <td>1</td>\n",
       "      <td>Football</td>\n",
       "      <td>E0</td>\n",
       "      <td>64.516129</td>\n",
       "      <td>5.5</td>\n",
       "      <td>3.548387</td>\n",
       "      <td>38.679065</td>\n",
       "    </tr>\n",
       "  </tbody>\n",
       "</table>\n",
       "</div>"
      ],
      "text/plain": [
       "   CuotaFavorito       Date Favorito  GanaFavorito     Sport Tournament  \\\n",
       "0           2.20 2000-08-19        H             1  Football         E0   \n",
       "1           1.60 2000-08-19        H             1  Football         E0   \n",
       "2           2.20 2000-08-19        H             0  Football         E0   \n",
       "3           1.80 2000-08-19        H             0  Football         E0   \n",
       "4           1.55 2000-08-19        H             1  Football         E0   \n",
       "\n",
       "   Probabilidad  Hucha10    HuchaB  Indicador  \n",
       "0     45.454545     12.0  5.454545  19.243025  \n",
       "1     62.500000      6.0  3.750000  37.083788  \n",
       "2     45.454545    -10.0 -4.545455  19.243025  \n",
       "3     55.555556    -10.0 -5.555556  28.955330  \n",
       "4     64.516129      5.5  3.548387  38.679065  "
      ]
     },
     "execution_count": 19,
     "metadata": {},
     "output_type": "execute_result"
    }
   ],
   "source": [
    "sports.head()"
   ]
  },
  {
   "cell_type": "code",
   "execution_count": 20,
   "metadata": {},
   "outputs": [],
   "source": [
    "sports['HuchaC'] = np.where(sports['GanaFavorito'] == 1, sports['CuotaFavorito']*sports['Indicador']/10, -sports['Indicador']/10)"
   ]
  },
  {
   "cell_type": "code",
   "execution_count": 21,
   "metadata": {},
   "outputs": [
    {
     "data": {
      "text/html": [
       "<div>\n",
       "<style scoped>\n",
       "    .dataframe tbody tr th:only-of-type {\n",
       "        vertical-align: middle;\n",
       "    }\n",
       "\n",
       "    .dataframe tbody tr th {\n",
       "        vertical-align: top;\n",
       "    }\n",
       "\n",
       "    .dataframe thead th {\n",
       "        text-align: right;\n",
       "    }\n",
       "</style>\n",
       "<table border=\"1\" class=\"dataframe\">\n",
       "  <thead>\n",
       "    <tr style=\"text-align: right;\">\n",
       "      <th></th>\n",
       "      <th>CuotaFavorito</th>\n",
       "      <th>Date</th>\n",
       "      <th>Favorito</th>\n",
       "      <th>GanaFavorito</th>\n",
       "      <th>Sport</th>\n",
       "      <th>Tournament</th>\n",
       "      <th>Probabilidad</th>\n",
       "      <th>Hucha10</th>\n",
       "      <th>HuchaB</th>\n",
       "      <th>Indicador</th>\n",
       "      <th>HuchaC</th>\n",
       "    </tr>\n",
       "  </thead>\n",
       "  <tbody>\n",
       "    <tr>\n",
       "      <th>0</th>\n",
       "      <td>2.20</td>\n",
       "      <td>2000-08-19</td>\n",
       "      <td>H</td>\n",
       "      <td>1</td>\n",
       "      <td>Football</td>\n",
       "      <td>E0</td>\n",
       "      <td>45.454545</td>\n",
       "      <td>12.0</td>\n",
       "      <td>5.454545</td>\n",
       "      <td>19.243025</td>\n",
       "      <td>4.233465</td>\n",
       "    </tr>\n",
       "    <tr>\n",
       "      <th>1</th>\n",
       "      <td>1.60</td>\n",
       "      <td>2000-08-19</td>\n",
       "      <td>H</td>\n",
       "      <td>1</td>\n",
       "      <td>Football</td>\n",
       "      <td>E0</td>\n",
       "      <td>62.500000</td>\n",
       "      <td>6.0</td>\n",
       "      <td>3.750000</td>\n",
       "      <td>37.083788</td>\n",
       "      <td>5.933406</td>\n",
       "    </tr>\n",
       "    <tr>\n",
       "      <th>2</th>\n",
       "      <td>2.20</td>\n",
       "      <td>2000-08-19</td>\n",
       "      <td>H</td>\n",
       "      <td>0</td>\n",
       "      <td>Football</td>\n",
       "      <td>E0</td>\n",
       "      <td>45.454545</td>\n",
       "      <td>-10.0</td>\n",
       "      <td>-4.545455</td>\n",
       "      <td>19.243025</td>\n",
       "      <td>-1.924302</td>\n",
       "    </tr>\n",
       "    <tr>\n",
       "      <th>3</th>\n",
       "      <td>1.80</td>\n",
       "      <td>2000-08-19</td>\n",
       "      <td>H</td>\n",
       "      <td>0</td>\n",
       "      <td>Football</td>\n",
       "      <td>E0</td>\n",
       "      <td>55.555556</td>\n",
       "      <td>-10.0</td>\n",
       "      <td>-5.555556</td>\n",
       "      <td>28.955330</td>\n",
       "      <td>-2.895533</td>\n",
       "    </tr>\n",
       "    <tr>\n",
       "      <th>4</th>\n",
       "      <td>1.55</td>\n",
       "      <td>2000-08-19</td>\n",
       "      <td>H</td>\n",
       "      <td>1</td>\n",
       "      <td>Football</td>\n",
       "      <td>E0</td>\n",
       "      <td>64.516129</td>\n",
       "      <td>5.5</td>\n",
       "      <td>3.548387</td>\n",
       "      <td>38.679065</td>\n",
       "      <td>5.995255</td>\n",
       "    </tr>\n",
       "  </tbody>\n",
       "</table>\n",
       "</div>"
      ],
      "text/plain": [
       "   CuotaFavorito       Date Favorito  GanaFavorito     Sport Tournament  \\\n",
       "0           2.20 2000-08-19        H             1  Football         E0   \n",
       "1           1.60 2000-08-19        H             1  Football         E0   \n",
       "2           2.20 2000-08-19        H             0  Football         E0   \n",
       "3           1.80 2000-08-19        H             0  Football         E0   \n",
       "4           1.55 2000-08-19        H             1  Football         E0   \n",
       "\n",
       "   Probabilidad  Hucha10    HuchaB  Indicador    HuchaC  \n",
       "0     45.454545     12.0  5.454545  19.243025  4.233465  \n",
       "1     62.500000      6.0  3.750000  37.083788  5.933406  \n",
       "2     45.454545    -10.0 -4.545455  19.243025 -1.924302  \n",
       "3     55.555556    -10.0 -5.555556  28.955330 -2.895533  \n",
       "4     64.516129      5.5  3.548387  38.679065  5.995255  "
      ]
     },
     "execution_count": 21,
     "metadata": {},
     "output_type": "execute_result"
    }
   ],
   "source": [
    "sports.head()"
   ]
  },
  {
   "cell_type": "code",
   "execution_count": 22,
   "metadata": {},
   "outputs": [
    {
     "name": "stdout",
     "output_type": "stream",
     "text": [
      "-163289.0\n",
      "-92195.14371700516\n",
      "521926.3007665614\n"
     ]
    }
   ],
   "source": [
    "print(sports['Hucha10'].sum())\n",
    "print(sports['HuchaB'].sum())\n",
    "print(sports['HuchaC'].sum())"
   ]
  },
  {
   "cell_type": "code",
   "execution_count": 23,
   "metadata": {},
   "outputs": [],
   "source": [
    "#Gracias a las indicador hemos obtenido beneficio apostando al favorito."
   ]
  },
  {
   "cell_type": "markdown",
   "metadata": {},
   "source": [
    "Ahora vamos a calcular las tres huchas para Fútbol, Baloncesto y Tenis."
   ]
  },
  {
   "cell_type": "code",
   "execution_count": 24,
   "metadata": {},
   "outputs": [
    {
     "data": {
      "text/html": [
       "<div>\n",
       "<style scoped>\n",
       "    .dataframe tbody tr th:only-of-type {\n",
       "        vertical-align: middle;\n",
       "    }\n",
       "\n",
       "    .dataframe tbody tr th {\n",
       "        vertical-align: top;\n",
       "    }\n",
       "\n",
       "    .dataframe thead th {\n",
       "        text-align: right;\n",
       "    }\n",
       "</style>\n",
       "<table border=\"1\" class=\"dataframe\">\n",
       "  <thead>\n",
       "    <tr style=\"text-align: right;\">\n",
       "      <th></th>\n",
       "      <th>Sport</th>\n",
       "      <th>Hucha10</th>\n",
       "      <th>HuchaB</th>\n",
       "      <th>HuchaC</th>\n",
       "    </tr>\n",
       "  </thead>\n",
       "  <tbody>\n",
       "    <tr>\n",
       "      <th>0</th>\n",
       "      <td>Basketball</td>\n",
       "      <td>-4328.40</td>\n",
       "      <td>-3039.198699</td>\n",
       "      <td>40828.836709</td>\n",
       "    </tr>\n",
       "    <tr>\n",
       "      <th>1</th>\n",
       "      <td>Football</td>\n",
       "      <td>-99739.79</td>\n",
       "      <td>-50062.410331</td>\n",
       "      <td>219260.919411</td>\n",
       "    </tr>\n",
       "    <tr>\n",
       "      <th>2</th>\n",
       "      <td>Tennis</td>\n",
       "      <td>-59220.81</td>\n",
       "      <td>-39093.534687</td>\n",
       "      <td>261836.544646</td>\n",
       "    </tr>\n",
       "  </tbody>\n",
       "</table>\n",
       "</div>"
      ],
      "text/plain": [
       "        Sport   Hucha10        HuchaB         HuchaC\n",
       "0  Basketball  -4328.40  -3039.198699   40828.836709\n",
       "1    Football -99739.79 -50062.410331  219260.919411\n",
       "2      Tennis -59220.81 -39093.534687  261836.544646"
      ]
     },
     "execution_count": 24,
     "metadata": {},
     "output_type": "execute_result"
    }
   ],
   "source": [
    "sports.groupby('Sport', as_index=False)[['Hucha10','HuchaB','HuchaC']].sum()"
   ]
  },
  {
   "cell_type": "markdown",
   "metadata": {},
   "source": [
    "Para finalizar vamos a analizar los 10 torneos de fútbol que son más rentables si apostamos al favorito."
   ]
  },
  {
   "cell_type": "code",
   "execution_count": 33,
   "metadata": {},
   "outputs": [
    {
     "data": {
      "text/html": [
       "<div>\n",
       "<style scoped>\n",
       "    .dataframe tbody tr th:only-of-type {\n",
       "        vertical-align: middle;\n",
       "    }\n",
       "\n",
       "    .dataframe tbody tr th {\n",
       "        vertical-align: top;\n",
       "    }\n",
       "\n",
       "    .dataframe thead th {\n",
       "        text-align: right;\n",
       "    }\n",
       "</style>\n",
       "<table border=\"1\" class=\"dataframe\">\n",
       "  <thead>\n",
       "    <tr style=\"text-align: right;\">\n",
       "      <th></th>\n",
       "      <th>Tournament</th>\n",
       "      <th>Hucha10</th>\n",
       "      <th>HuchaB</th>\n",
       "      <th>HuchaC</th>\n",
       "    </tr>\n",
       "  </thead>\n",
       "  <tbody>\n",
       "    <tr>\n",
       "      <th>9</th>\n",
       "      <td>E0</td>\n",
       "      <td>-2961.2</td>\n",
       "      <td>-1454.367782</td>\n",
       "      <td>12004.987533</td>\n",
       "    </tr>\n",
       "    <tr>\n",
       "      <th>35</th>\n",
       "      <td>SP1</td>\n",
       "      <td>-3516.6</td>\n",
       "      <td>-1804.004227</td>\n",
       "      <td>11938.415177</td>\n",
       "    </tr>\n",
       "    <tr>\n",
       "      <th>19</th>\n",
       "      <td>I1</td>\n",
       "      <td>-2196.9</td>\n",
       "      <td>-1096.944616</td>\n",
       "      <td>11165.160367</td>\n",
       "    </tr>\n",
       "    <tr>\n",
       "      <th>25</th>\n",
       "      <td>N1</td>\n",
       "      <td>-3287.7</td>\n",
       "      <td>-1775.200176</td>\n",
       "      <td>10887.508277</td>\n",
       "    </tr>\n",
       "    <tr>\n",
       "      <th>10</th>\n",
       "      <td>E1</td>\n",
       "      <td>-8819.5</td>\n",
       "      <td>-4367.152319</td>\n",
       "      <td>9922.657594</td>\n",
       "    </tr>\n",
       "    <tr>\n",
       "      <th>11</th>\n",
       "      <td>E2</td>\n",
       "      <td>-9223.6</td>\n",
       "      <td>-4648.419202</td>\n",
       "      <td>9793.945794</td>\n",
       "    </tr>\n",
       "    <tr>\n",
       "      <th>27</th>\n",
       "      <td>P1</td>\n",
       "      <td>-2556.1</td>\n",
       "      <td>-1248.543651</td>\n",
       "      <td>9162.418317</td>\n",
       "    </tr>\n",
       "    <tr>\n",
       "      <th>14</th>\n",
       "      <td>F1</td>\n",
       "      <td>-2575.3</td>\n",
       "      <td>-1404.078835</td>\n",
       "      <td>8963.830176</td>\n",
       "    </tr>\n",
       "    <tr>\n",
       "      <th>12</th>\n",
       "      <td>E3</td>\n",
       "      <td>-10294.0</td>\n",
       "      <td>-5165.155493</td>\n",
       "      <td>8899.938420</td>\n",
       "    </tr>\n",
       "    <tr>\n",
       "      <th>40</th>\n",
       "      <td>T1</td>\n",
       "      <td>-2613.0</td>\n",
       "      <td>-1421.206423</td>\n",
       "      <td>8832.606653</td>\n",
       "    </tr>\n",
       "  </tbody>\n",
       "</table>\n",
       "</div>"
      ],
      "text/plain": [
       "   Tournament  Hucha10       HuchaB        HuchaC\n",
       "9          E0  -2961.2 -1454.367782  12004.987533\n",
       "35        SP1  -3516.6 -1804.004227  11938.415177\n",
       "19         I1  -2196.9 -1096.944616  11165.160367\n",
       "25         N1  -3287.7 -1775.200176  10887.508277\n",
       "10         E1  -8819.5 -4367.152319   9922.657594\n",
       "11         E2  -9223.6 -4648.419202   9793.945794\n",
       "27         P1  -2556.1 -1248.543651   9162.418317\n",
       "14         F1  -2575.3 -1404.078835   8963.830176\n",
       "12         E3 -10294.0 -5165.155493   8899.938420\n",
       "40         T1  -2613.0 -1421.206423   8832.606653"
      ]
     },
     "execution_count": 33,
     "metadata": {},
     "output_type": "execute_result"
    }
   ],
   "source": [
    "footballTournament = sports[sports['Sport'] == 'Football'].groupby('Tournament', as_index=False)[['Hucha10','HuchaB','HuchaC']].sum()\n",
    "footballTournament.sort_values(by='HuchaC', ascending=False).head(10)"
   ]
  },
  {
   "cell_type": "markdown",
   "metadata": {},
   "source": [
    "# Estadística descriptiva"
   ]
  },
  {
   "cell_type": "code",
   "execution_count": 40,
   "metadata": {},
   "outputs": [],
   "source": [
    "datos = sports[['CuotaFavorito','Probabilidad','HuchaC','Sport']]"
   ]
  },
  {
   "cell_type": "markdown",
   "metadata": {},
   "source": [
    "#### Datos estadísticos globales"
   ]
  },
  {
   "cell_type": "code",
   "execution_count": 44,
   "metadata": {
    "scrolled": true
   },
   "outputs": [
    {
     "data": {
      "text/html": [
       "<div>\n",
       "<style scoped>\n",
       "    .dataframe tbody tr th:only-of-type {\n",
       "        vertical-align: middle;\n",
       "    }\n",
       "\n",
       "    .dataframe tbody tr th {\n",
       "        vertical-align: top;\n",
       "    }\n",
       "\n",
       "    .dataframe thead th {\n",
       "        text-align: right;\n",
       "    }\n",
       "</style>\n",
       "<table border=\"1\" class=\"dataframe\">\n",
       "  <thead>\n",
       "    <tr style=\"text-align: right;\">\n",
       "      <th></th>\n",
       "      <th>CuotaFavorito</th>\n",
       "      <th>Probabilidad</th>\n",
       "      <th>HuchaC</th>\n",
       "    </tr>\n",
       "  </thead>\n",
       "  <tbody>\n",
       "    <tr>\n",
       "      <th>count</th>\n",
       "      <td>245322.000000</td>\n",
       "      <td>245322.000000</td>\n",
       "      <td>245054.000000</td>\n",
       "    </tr>\n",
       "    <tr>\n",
       "      <th>mean</th>\n",
       "      <td>1.768716</td>\n",
       "      <td>60.004612</td>\n",
       "      <td>2.129842</td>\n",
       "    </tr>\n",
       "    <tr>\n",
       "      <th>std</th>\n",
       "      <td>0.422697</td>\n",
       "      <td>14.966664</td>\n",
       "      <td>4.718340</td>\n",
       "    </tr>\n",
       "    <tr>\n",
       "      <th>min</th>\n",
       "      <td>1.000000</td>\n",
       "      <td>21.978022</td>\n",
       "      <td>-9.705080</td>\n",
       "    </tr>\n",
       "    <tr>\n",
       "      <th>25%</th>\n",
       "      <td>1.430000</td>\n",
       "      <td>47.619048</td>\n",
       "      <td>-2.320227</td>\n",
       "    </tr>\n",
       "    <tr>\n",
       "      <th>50%</th>\n",
       "      <td>1.720000</td>\n",
       "      <td>58.139535</td>\n",
       "      <td>4.233465</td>\n",
       "    </tr>\n",
       "    <tr>\n",
       "      <th>75%</th>\n",
       "      <td>2.100000</td>\n",
       "      <td>69.930070</td>\n",
       "      <td>6.013782</td>\n",
       "    </tr>\n",
       "    <tr>\n",
       "      <th>max</th>\n",
       "      <td>4.550000</td>\n",
       "      <td>100.000000</td>\n",
       "      <td>10.000000</td>\n",
       "    </tr>\n",
       "  </tbody>\n",
       "</table>\n",
       "</div>"
      ],
      "text/plain": [
       "       CuotaFavorito   Probabilidad         HuchaC\n",
       "count  245322.000000  245322.000000  245054.000000\n",
       "mean        1.768716      60.004612       2.129842\n",
       "std         0.422697      14.966664       4.718340\n",
       "min         1.000000      21.978022      -9.705080\n",
       "25%         1.430000      47.619048      -2.320227\n",
       "50%         1.720000      58.139535       4.233465\n",
       "75%         2.100000      69.930070       6.013782\n",
       "max         4.550000     100.000000      10.000000"
      ]
     },
     "execution_count": 44,
     "metadata": {},
     "output_type": "execute_result"
    }
   ],
   "source": [
    "datos.describe()"
   ]
  },
  {
   "cell_type": "code",
   "execution_count": 45,
   "metadata": {},
   "outputs": [
    {
     "data": {
      "text/html": [
       "<div>\n",
       "<style scoped>\n",
       "    .dataframe tbody tr th:only-of-type {\n",
       "        vertical-align: middle;\n",
       "    }\n",
       "\n",
       "    .dataframe tbody tr th {\n",
       "        vertical-align: top;\n",
       "    }\n",
       "\n",
       "    .dataframe thead th {\n",
       "        text-align: right;\n",
       "    }\n",
       "</style>\n",
       "<table border=\"1\" class=\"dataframe\">\n",
       "  <thead>\n",
       "    <tr style=\"text-align: right;\">\n",
       "      <th></th>\n",
       "      <th>CuotaFavorito</th>\n",
       "      <th>Probabilidad</th>\n",
       "      <th>HuchaC</th>\n",
       "      <th>Sport</th>\n",
       "    </tr>\n",
       "  </thead>\n",
       "  <tbody>\n",
       "    <tr>\n",
       "      <th>0</th>\n",
       "      <td>2.2</td>\n",
       "      <td>45.454545</td>\n",
       "      <td>-1.677671</td>\n",
       "      <td>Football</td>\n",
       "    </tr>\n",
       "  </tbody>\n",
       "</table>\n",
       "</div>"
      ],
      "text/plain": [
       "   CuotaFavorito  Probabilidad    HuchaC     Sport\n",
       "0            2.2     45.454545 -1.677671  Football"
      ]
     },
     "execution_count": 45,
     "metadata": {},
     "output_type": "execute_result"
    }
   ],
   "source": [
    "datos.mode()"
   ]
  },
  {
   "cell_type": "markdown",
   "metadata": {},
   "source": [
    "#### Datos estadísticos Fútbol"
   ]
  },
  {
   "cell_type": "code",
   "execution_count": 49,
   "metadata": {},
   "outputs": [
    {
     "data": {
      "text/html": [
       "<div>\n",
       "<style scoped>\n",
       "    .dataframe tbody tr th:only-of-type {\n",
       "        vertical-align: middle;\n",
       "    }\n",
       "\n",
       "    .dataframe tbody tr th {\n",
       "        vertical-align: top;\n",
       "    }\n",
       "\n",
       "    .dataframe thead th {\n",
       "        text-align: right;\n",
       "    }\n",
       "</style>\n",
       "<table border=\"1\" class=\"dataframe\">\n",
       "  <thead>\n",
       "    <tr style=\"text-align: right;\">\n",
       "      <th></th>\n",
       "      <th>CuotaFavorito</th>\n",
       "      <th>Probabilidad</th>\n",
       "      <th>HuchaC</th>\n",
       "    </tr>\n",
       "  </thead>\n",
       "  <tbody>\n",
       "    <tr>\n",
       "      <th>count</th>\n",
       "      <td>160079.00000</td>\n",
       "      <td>160079.000000</td>\n",
       "      <td>160060.000000</td>\n",
       "    </tr>\n",
       "    <tr>\n",
       "      <th>mean</th>\n",
       "      <td>1.96442</td>\n",
       "      <td>52.943385</td>\n",
       "      <td>1.369867</td>\n",
       "    </tr>\n",
       "    <tr>\n",
       "      <th>std</th>\n",
       "      <td>0.36955</td>\n",
       "      <td>11.120552</td>\n",
       "      <td>4.005049</td>\n",
       "    </tr>\n",
       "    <tr>\n",
       "      <th>min</th>\n",
       "      <td>1.01000</td>\n",
       "      <td>21.978022</td>\n",
       "      <td>-8.839223</td>\n",
       "    </tr>\n",
       "    <tr>\n",
       "      <th>25%</th>\n",
       "      <td>1.70000</td>\n",
       "      <td>43.478261</td>\n",
       "      <td>-2.121569</td>\n",
       "    </tr>\n",
       "    <tr>\n",
       "      <th>50%</th>\n",
       "      <td>2.00000</td>\n",
       "      <td>50.000000</td>\n",
       "      <td>-0.983452</td>\n",
       "    </tr>\n",
       "    <tr>\n",
       "      <th>75%</th>\n",
       "      <td>2.30000</td>\n",
       "      <td>58.823529</td>\n",
       "      <td>4.962825</td>\n",
       "    </tr>\n",
       "    <tr>\n",
       "      <th>max</th>\n",
       "      <td>4.55000</td>\n",
       "      <td>99.009901</td>\n",
       "      <td>10.000000</td>\n",
       "    </tr>\n",
       "  </tbody>\n",
       "</table>\n",
       "</div>"
      ],
      "text/plain": [
       "       CuotaFavorito   Probabilidad         HuchaC\n",
       "count   160079.00000  160079.000000  160060.000000\n",
       "mean         1.96442      52.943385       1.369867\n",
       "std          0.36955      11.120552       4.005049\n",
       "min          1.01000      21.978022      -8.839223\n",
       "25%          1.70000      43.478261      -2.121569\n",
       "50%          2.00000      50.000000      -0.983452\n",
       "75%          2.30000      58.823529       4.962825\n",
       "max          4.55000      99.009901      10.000000"
      ]
     },
     "execution_count": 49,
     "metadata": {},
     "output_type": "execute_result"
    }
   ],
   "source": [
    "datos[datos['Sport'] == 'Football'].describe()"
   ]
  },
  {
   "cell_type": "code",
   "execution_count": 50,
   "metadata": {},
   "outputs": [
    {
     "data": {
      "text/html": [
       "<div>\n",
       "<style scoped>\n",
       "    .dataframe tbody tr th:only-of-type {\n",
       "        vertical-align: middle;\n",
       "    }\n",
       "\n",
       "    .dataframe tbody tr th {\n",
       "        vertical-align: top;\n",
       "    }\n",
       "\n",
       "    .dataframe thead th {\n",
       "        text-align: right;\n",
       "    }\n",
       "</style>\n",
       "<table border=\"1\" class=\"dataframe\">\n",
       "  <thead>\n",
       "    <tr style=\"text-align: right;\">\n",
       "      <th></th>\n",
       "      <th>CuotaFavorito</th>\n",
       "      <th>Probabilidad</th>\n",
       "      <th>HuchaC</th>\n",
       "      <th>Sport</th>\n",
       "    </tr>\n",
       "  </thead>\n",
       "  <tbody>\n",
       "    <tr>\n",
       "      <th>0</th>\n",
       "      <td>2.2</td>\n",
       "      <td>45.454545</td>\n",
       "      <td>-1.677671</td>\n",
       "      <td>Football</td>\n",
       "    </tr>\n",
       "  </tbody>\n",
       "</table>\n",
       "</div>"
      ],
      "text/plain": [
       "   CuotaFavorito  Probabilidad    HuchaC     Sport\n",
       "0            2.2     45.454545 -1.677671  Football"
      ]
     },
     "execution_count": 50,
     "metadata": {},
     "output_type": "execute_result"
    }
   ],
   "source": [
    "datos[datos['Sport'] == 'Football'].mode()"
   ]
  },
  {
   "cell_type": "code",
   "execution_count": 57,
   "metadata": {},
   "outputs": [
    {
     "data": {
      "text/plain": [
       "CuotaFavorito     2.000000\n",
       "Probabilidad     50.000000\n",
       "HuchaC           -0.983452\n",
       "dtype: float64"
      ]
     },
     "execution_count": 57,
     "metadata": {},
     "output_type": "execute_result"
    }
   ],
   "source": [
    "datos[datos['Sport'] == 'Football'].median()"
   ]
  },
  {
   "cell_type": "markdown",
   "metadata": {},
   "source": [
    "#### Datos estadísticos Baloncesto"
   ]
  },
  {
   "cell_type": "code",
   "execution_count": 51,
   "metadata": {},
   "outputs": [
    {
     "data": {
      "text/html": [
       "<div>\n",
       "<style scoped>\n",
       "    .dataframe tbody tr th:only-of-type {\n",
       "        vertical-align: middle;\n",
       "    }\n",
       "\n",
       "    .dataframe tbody tr th {\n",
       "        vertical-align: top;\n",
       "    }\n",
       "\n",
       "    .dataframe thead th {\n",
       "        text-align: right;\n",
       "    }\n",
       "</style>\n",
       "<table border=\"1\" class=\"dataframe\">\n",
       "  <thead>\n",
       "    <tr style=\"text-align: right;\">\n",
       "      <th></th>\n",
       "      <th>CuotaFavorito</th>\n",
       "      <th>Probabilidad</th>\n",
       "      <th>HuchaC</th>\n",
       "    </tr>\n",
       "  </thead>\n",
       "  <tbody>\n",
       "    <tr>\n",
       "      <th>count</th>\n",
       "      <td>12059.000000</td>\n",
       "      <td>12059.000000</td>\n",
       "      <td>12059.000000</td>\n",
       "    </tr>\n",
       "    <tr>\n",
       "      <th>mean</th>\n",
       "      <td>1.451994</td>\n",
       "      <td>70.792934</td>\n",
       "      <td>3.385756</td>\n",
       "    </tr>\n",
       "    <tr>\n",
       "      <th>std</th>\n",
       "      <td>0.236604</td>\n",
       "      <td>11.947281</td>\n",
       "      <td>5.386958</td>\n",
       "    </tr>\n",
       "    <tr>\n",
       "      <th>min</th>\n",
       "      <td>1.000000</td>\n",
       "      <td>52.631579</td>\n",
       "      <td>-9.362175</td>\n",
       "    </tr>\n",
       "    <tr>\n",
       "      <th>25%</th>\n",
       "      <td>1.260000</td>\n",
       "      <td>60.975610</td>\n",
       "      <td>-3.342876</td>\n",
       "    </tr>\n",
       "    <tr>\n",
       "      <th>50%</th>\n",
       "      <td>1.440000</td>\n",
       "      <td>69.444444</td>\n",
       "      <td>5.983890</td>\n",
       "    </tr>\n",
       "    <tr>\n",
       "      <th>75%</th>\n",
       "      <td>1.640000</td>\n",
       "      <td>79.365079</td>\n",
       "      <td>7.549020</td>\n",
       "    </tr>\n",
       "    <tr>\n",
       "      <th>max</th>\n",
       "      <td>1.900000</td>\n",
       "      <td>100.000000</td>\n",
       "      <td>10.000000</td>\n",
       "    </tr>\n",
       "  </tbody>\n",
       "</table>\n",
       "</div>"
      ],
      "text/plain": [
       "       CuotaFavorito  Probabilidad        HuchaC\n",
       "count   12059.000000  12059.000000  12059.000000\n",
       "mean        1.451994     70.792934      3.385756\n",
       "std         0.236604     11.947281      5.386958\n",
       "min         1.000000     52.631579     -9.362175\n",
       "25%         1.260000     60.975610     -3.342876\n",
       "50%         1.440000     69.444444      5.983890\n",
       "75%         1.640000     79.365079      7.549020\n",
       "max         1.900000    100.000000     10.000000"
      ]
     },
     "execution_count": 51,
     "metadata": {},
     "output_type": "execute_result"
    }
   ],
   "source": [
    "datos[datos['Sport'] == 'Basketball'].describe()"
   ]
  },
  {
   "cell_type": "code",
   "execution_count": 52,
   "metadata": {},
   "outputs": [
    {
     "data": {
      "text/html": [
       "<div>\n",
       "<style scoped>\n",
       "    .dataframe tbody tr th:only-of-type {\n",
       "        vertical-align: middle;\n",
       "    }\n",
       "\n",
       "    .dataframe tbody tr th {\n",
       "        vertical-align: top;\n",
       "    }\n",
       "\n",
       "    .dataframe thead th {\n",
       "        text-align: right;\n",
       "    }\n",
       "</style>\n",
       "<table border=\"1\" class=\"dataframe\">\n",
       "  <thead>\n",
       "    <tr style=\"text-align: right;\">\n",
       "      <th></th>\n",
       "      <th>CuotaFavorito</th>\n",
       "      <th>Probabilidad</th>\n",
       "      <th>HuchaC</th>\n",
       "      <th>Sport</th>\n",
       "    </tr>\n",
       "  </thead>\n",
       "  <tbody>\n",
       "    <tr>\n",
       "      <th>0</th>\n",
       "      <td>1.8</td>\n",
       "      <td>55.555556</td>\n",
       "      <td>5.211959</td>\n",
       "      <td>Basketball</td>\n",
       "    </tr>\n",
       "  </tbody>\n",
       "</table>\n",
       "</div>"
      ],
      "text/plain": [
       "   CuotaFavorito  Probabilidad    HuchaC       Sport\n",
       "0            1.8     55.555556  5.211959  Basketball"
      ]
     },
     "execution_count": 52,
     "metadata": {},
     "output_type": "execute_result"
    }
   ],
   "source": [
    "datos[datos['Sport'] == 'Basketball'].mode()"
   ]
  },
  {
   "cell_type": "code",
   "execution_count": 56,
   "metadata": {},
   "outputs": [
    {
     "data": {
      "text/plain": [
       "CuotaFavorito     1.440000\n",
       "Probabilidad     69.444444\n",
       "HuchaC            5.983890\n",
       "dtype: float64"
      ]
     },
     "execution_count": 56,
     "metadata": {},
     "output_type": "execute_result"
    }
   ],
   "source": [
    "datos[datos['Sport'] == 'Basketball'].median()"
   ]
  },
  {
   "cell_type": "markdown",
   "metadata": {},
   "source": [
    "#### Datos estadísticos Tenis"
   ]
  },
  {
   "cell_type": "code",
   "execution_count": 53,
   "metadata": {},
   "outputs": [
    {
     "data": {
      "text/html": [
       "<div>\n",
       "<style scoped>\n",
       "    .dataframe tbody tr th:only-of-type {\n",
       "        vertical-align: middle;\n",
       "    }\n",
       "\n",
       "    .dataframe tbody tr th {\n",
       "        vertical-align: top;\n",
       "    }\n",
       "\n",
       "    .dataframe thead th {\n",
       "        text-align: right;\n",
       "    }\n",
       "</style>\n",
       "<table border=\"1\" class=\"dataframe\">\n",
       "  <thead>\n",
       "    <tr style=\"text-align: right;\">\n",
       "      <th></th>\n",
       "      <th>CuotaFavorito</th>\n",
       "      <th>Probabilidad</th>\n",
       "      <th>HuchaC</th>\n",
       "    </tr>\n",
       "  </thead>\n",
       "  <tbody>\n",
       "    <tr>\n",
       "      <th>count</th>\n",
       "      <td>73184.000000</td>\n",
       "      <td>73184.000000</td>\n",
       "      <td>72935.000000</td>\n",
       "    </tr>\n",
       "    <tr>\n",
       "      <th>mean</th>\n",
       "      <td>1.392832</td>\n",
       "      <td>73.672324</td>\n",
       "      <td>3.589999</td>\n",
       "    </tr>\n",
       "    <tr>\n",
       "      <th>std</th>\n",
       "      <td>0.222253</td>\n",
       "      <td>11.908509</td>\n",
       "      <td>5.580432</td>\n",
       "    </tr>\n",
       "    <tr>\n",
       "      <th>min</th>\n",
       "      <td>1.000000</td>\n",
       "      <td>52.383447</td>\n",
       "      <td>-9.705080</td>\n",
       "    </tr>\n",
       "    <tr>\n",
       "      <th>25%</th>\n",
       "      <td>1.200000</td>\n",
       "      <td>63.694268</td>\n",
       "      <td>-3.342876</td>\n",
       "    </tr>\n",
       "    <tr>\n",
       "      <th>50%</th>\n",
       "      <td>1.390000</td>\n",
       "      <td>71.942446</td>\n",
       "      <td>6.271958</td>\n",
       "    </tr>\n",
       "    <tr>\n",
       "      <th>75%</th>\n",
       "      <td>1.570000</td>\n",
       "      <td>83.333333</td>\n",
       "      <td>7.746195</td>\n",
       "    </tr>\n",
       "    <tr>\n",
       "      <th>max</th>\n",
       "      <td>1.909000</td>\n",
       "      <td>100.000000</td>\n",
       "      <td>10.000000</td>\n",
       "    </tr>\n",
       "  </tbody>\n",
       "</table>\n",
       "</div>"
      ],
      "text/plain": [
       "       CuotaFavorito  Probabilidad        HuchaC\n",
       "count   73184.000000  73184.000000  72935.000000\n",
       "mean        1.392832     73.672324      3.589999\n",
       "std         0.222253     11.908509      5.580432\n",
       "min         1.000000     52.383447     -9.705080\n",
       "25%         1.200000     63.694268     -3.342876\n",
       "50%         1.390000     71.942446      6.271958\n",
       "75%         1.570000     83.333333      7.746195\n",
       "max         1.909000    100.000000     10.000000"
      ]
     },
     "execution_count": 53,
     "metadata": {},
     "output_type": "execute_result"
    }
   ],
   "source": [
    "datos[datos['Sport'] == 'Tennis'].describe()"
   ]
  },
  {
   "cell_type": "code",
   "execution_count": 54,
   "metadata": {},
   "outputs": [
    {
     "data": {
      "text/html": [
       "<div>\n",
       "<style scoped>\n",
       "    .dataframe tbody tr th:only-of-type {\n",
       "        vertical-align: middle;\n",
       "    }\n",
       "\n",
       "    .dataframe tbody tr th {\n",
       "        vertical-align: top;\n",
       "    }\n",
       "\n",
       "    .dataframe thead th {\n",
       "        text-align: right;\n",
       "    }\n",
       "</style>\n",
       "<table border=\"1\" class=\"dataframe\">\n",
       "  <thead>\n",
       "    <tr style=\"text-align: right;\">\n",
       "      <th></th>\n",
       "      <th>CuotaFavorito</th>\n",
       "      <th>Probabilidad</th>\n",
       "      <th>HuchaC</th>\n",
       "      <th>Sport</th>\n",
       "    </tr>\n",
       "  </thead>\n",
       "  <tbody>\n",
       "    <tr>\n",
       "      <th>0</th>\n",
       "      <td>1.4</td>\n",
       "      <td>71.428571</td>\n",
       "      <td>6.790816</td>\n",
       "      <td>Tennis</td>\n",
       "    </tr>\n",
       "  </tbody>\n",
       "</table>\n",
       "</div>"
      ],
      "text/plain": [
       "   CuotaFavorito  Probabilidad    HuchaC   Sport\n",
       "0            1.4     71.428571  6.790816  Tennis"
      ]
     },
     "execution_count": 54,
     "metadata": {},
     "output_type": "execute_result"
    }
   ],
   "source": [
    "datos[datos['Sport'] == 'Tennis'].mode()"
   ]
  },
  {
   "cell_type": "code",
   "execution_count": 55,
   "metadata": {},
   "outputs": [
    {
     "data": {
      "text/plain": [
       "CuotaFavorito     1.390000\n",
       "Probabilidad     71.942446\n",
       "HuchaC            6.271958\n",
       "dtype: float64"
      ]
     },
     "execution_count": 55,
     "metadata": {},
     "output_type": "execute_result"
    }
   ],
   "source": [
    "datos[datos['Sport'] == 'Tennis'].median()"
   ]
  }
 ],
 "metadata": {
  "kernelspec": {
   "display_name": "Python 3",
   "language": "python",
   "name": "python3"
  },
  "language_info": {
   "codemirror_mode": {
    "name": "ipython",
    "version": 3
   },
   "file_extension": ".py",
   "mimetype": "text/x-python",
   "name": "python",
   "nbconvert_exporter": "python",
   "pygments_lexer": "ipython3",
   "version": "3.6.4"
  }
 },
 "nbformat": 4,
 "nbformat_minor": 2
}
